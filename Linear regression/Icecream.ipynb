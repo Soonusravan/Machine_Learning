{
 "cells": [
  {
   "cell_type": "markdown",
   "metadata": {},
   "source": [
    "Simple Linear Regression"
   ]
  },
  {
   "cell_type": "code",
   "execution_count": 1,
   "metadata": {},
   "outputs": [],
   "source": [
    "# Import necessary libraries\n",
    "import numpy as np \n",
    "import pandas as pd\n",
    "import matplotlib.pyplot as plt\n",
    "import math\n",
    "\n",
    "# Import scikit-learn modules\n",
    "from sklearn import datasets\n",
    "from sklearn import model_selection\n",
    "from sklearn.model_selection import train_test_split\n",
    "from sklearn.linear_model import LinearRegression\n",
    "from sklearn.metrics import mean_squared_error, mean_absolute_error, r2_score\n",
    "from sklearn.linear_model import Ridge\n",
    "from sklearn.preprocessing import StandardScaler\n",
    "from sklearn.datasets import make_regression\n",
    "from sklearn.model_selection import GridSearchCV     \n"
   ]
  },
  {
   "cell_type": "code",
   "execution_count": 2,
   "metadata": {},
   "outputs": [],
   "source": [
    "Icecream=pd.read_csv(\"Ice Cream Sales.csv\")\n",
    "type(Icecream)\n",
    "df=Icecream"
   ]
  },
  {
   "cell_type": "markdown",
   "metadata": {},
   "source": [
    "## Define the Training Features and Target Variable"
   ]
  },
  {
   "cell_type": "code",
   "execution_count": 3,
   "metadata": {},
   "outputs": [
    {
     "name": "stdout",
     "output_type": "stream",
     "text": [
      "0       39\n",
      "1       40\n",
      "2       41\n",
      "3       42\n",
      "4       43\n",
      "      ... \n",
      "360     99\n",
      "361     99\n",
      "362     99\n",
      "363    101\n",
      "364    101\n",
      "Name: Temperature, Length: 365, dtype: int64 0      13.17\n",
      "1      11.88\n",
      "2      18.82\n",
      "3      18.65\n",
      "4      17.02\n",
      "       ...  \n",
      "360    85.13\n",
      "361    87.08\n",
      "362    89.29\n",
      "363    81.91\n",
      "364    85.02\n",
      "Name: Ice Cream Profits, Length: 365, dtype: float64\n"
     ]
    }
   ],
   "source": [
    "x=df[\"Temperature\"]\n",
    "y=df[\"Ice Cream Profits\"]\n",
    "print(x,y)"
   ]
  },
  {
   "cell_type": "code",
   "execution_count": 4,
   "metadata": {},
   "outputs": [
    {
     "data": {
      "text/plain": [
       "Text(0, 0.5, 'Ice Cream Profits')"
      ]
     },
     "execution_count": 4,
     "metadata": {},
     "output_type": "execute_result"
    },
    {
     "data": {
      "image/png": "[encoded data removed]",
      "text/plain": [
       "<Figure size 640x480 with 1 Axes>"
      ]
     },
     "metadata": {},
     "output_type": "display_data"
    }
   ],
   "source": [
    "plt.scatter(x,y)\n",
    "plt.xlabel(\"Temperature\")\n",
    "plt.ylabel(\"Ice Cream Profits\")"
   ]
  },
  {
   "cell_type": "markdown",
   "metadata": {},
   "source": [
    "## Split the Dataset into Training and Testing Portion"
   ]
  },
  {
   "cell_type": "code",
   "execution_count": 5,
   "metadata": {},
   "outputs": [],
   "source": [
    "x_train, x_test, y_train, y_test = train_test_split(x,y,test_size=0.2, random_state=21)"
   ]
  },
  {
   "cell_type": "code",
   "execution_count": 6,
   "metadata": {},
   "outputs": [
    {
     "data": {
      "text/plain": [
       "155    70\n",
       "213    76\n",
       "283    83\n",
       "176    73\n",
       "102    65\n",
       "       ..\n",
       "120    66\n",
       "48     55\n",
       "260    80\n",
       "312    86\n",
       "207    76\n",
       "Name: Temperature, Length: 292, dtype: int64"
      ]
     },
     "execution_count": 6,
     "metadata": {},
     "output_type": "execute_result"
    }
   ],
   "source": [
    "x_train"
   ]
  },
  {
   "cell_type": "code",
   "execution_count": 7,
   "metadata": {},
   "outputs": [
    {
     "name": "stdout",
     "output_type": "stream",
     "text": [
      "Shape of x_train: (292, 1)\n"
     ]
    }
   ],
   "source": [
    "x_train=np.array(x_train).reshape(-1, 1)\n",
    "x_test=np.array(x_test).reshape(-1, 1)\n",
    "y_train=np.array(x_train).reshape(-1, 1)\n",
    "y_test=np.array(x_test).reshape(-1, 1)\n",
    "\n",
    "print(\"Shape of x_train:\", x_train.shape)"
   ]
  },
  {
   "cell_type": "markdown",
   "metadata": {},
   "source": [
    "## Linear the Features"
   ]
  },
  {
   "cell_type": "code",
   "execution_count": 8,
   "metadata": {},
   "outputs": [
    {
     "data": {
      "text/html": [
       "<style>#sk-container-id-1 {\n",
       "  /* Definition of color scheme common for light and dark mode */\n",
       "  --sklearn-color-text: black;\n",
       "  --sklearn-color-line: gray;\n",
       "  /* Definition of color scheme for unfitted estimators */\n",
       "  --sklearn-color-unfitted-level-0: #fff5e6;\n",
       "  --sklearn-color-unfitted-level-1: #f6e4d2;\n",
       "  --sklearn-color-unfitted-level-2: #ffe0b3;\n",
       "  --sklearn-color-unfitted-level-3: chocolate;\n",
       "  /* Definition of color scheme for fitted estimators */\n",
       "  --sklearn-color-fitted-level-0: #f0f8ff;\n",
       "  --sklearn-color-fitted-level-1: #d4ebff;\n",
       "  --sklearn-color-fitted-level-2: #b3dbfd;\n",
       "  --sklearn-color-fitted-level-3: cornflowerblue;\n",
       "\n",
       "  /* Specific color for light theme */\n",
       "  --sklearn-color-text-on-default-background: var(--sg-text-color, var(--theme-code-foreground, var(--jp-content-font-color1, black)));\n",
       "  --sklearn-color-background: var(--sg-background-color, var(--theme-background, var(--jp-layout-color0, white)));\n",
       "  --sklearn-color-border-box: var(--sg-text-color, var(--theme-code-foreground, var(--jp-content-font-color1, black)));\n",
       "  --sklearn-color-icon: #696969;\n",
       "\n",
       "  @media (prefers-color-scheme: dark) {\n",
       "    /* Redefinition of color scheme for dark theme */\n",
       "    --sklearn-color-text-on-default-background: var(--sg-text-color, var(--theme-code-foreground, var(--jp-content-font-color1, white)));\n",
       "    --sklearn-color-background: var(--sg-background-color, var(--theme-background, var(--jp-layout-color0, #111)));\n",
       "    --sklearn-color-border-box: var(--sg-text-color, var(--theme-code-foreground, var(--jp-content-font-color1, white)));\n",
       "    --sklearn-color-icon: #878787;\n",
       "  }\n",
       "}\n",
       "\n",
       "#sk-container-id-1 {\n",
       "  color: var(--sklearn-color-text);\n",
       "}\n",
       "\n",
       "#sk-container-id-1 pre {\n",
       "  padding: 0;\n",
       "}\n",
       "\n",
       "#sk-container-id-1 input.sk-hidden--visually {\n",
       "  border: 0;\n",
       "  clip: rect(1px 1px 1px 1px);\n",
       "  clip: rect(1px, 1px, 1px, 1px);\n",
       "  height: 1px;\n",
       "  margin: -1px;\n",
       "  overflow: hidden;\n",
       "  padding: 0;\n",
       "  position: absolute;\n",
       "  width: 1px;\n",
       "}\n",
       "\n",
       "#sk-container-id-1 div.sk-dashed-wrapped {\n",
       "  border: 1px dashed var(--sklearn-color-line);\n",
       "  margin: 0 0.4em 0.5em 0.4em;\n",
       "  box-sizing: border-box;\n",
       "  padding-bottom: 0.4em;\n",
       "  background-color: var(--sklearn-color-background);\n",
       "}\n",
       "\n",
       "#sk-container-id-1 div.sk-container {\n",
       "  /* jupyter's `normalize.less` sets `[hidden] { display: none; }`\n",
       "     but bootstrap.min.css set `[hidden] { display: none !important; }`\n",
       "     so we also need the `!important` here to be able to override the\n",
       "     default hidden behavior on the sphinx rendered scikit-learn.org.\n",
       "     See: https://github.com/scikit-learn/scikit-learn/issues/21755 */\n",
       "  display: inline-block !important;\n",
       "  position: relative;\n",
       "}\n",
       "\n",
       "#sk-container-id-1 div.sk-text-repr-fallback {\n",
       "  display: none;\n",
       "}\n",
       "\n",
       "div.sk-parallel-item,\n",
       "div.sk-serial,\n",
       "div.sk-item {\n",
       "  /* draw centered vertical line to link estimators */\n",
       "  background-image: linear-gradient(var(--sklearn-color-text-on-default-background), var(--sklearn-color-text-on-default-background));\n",
       "  background-size: 2px 100%;\n",
       "  background-repeat: no-repeat;\n",
       "  background-position: center center;\n",
       "}\n",
       "\n",
       "/* Parallel-specific style estimator block */\n",
       "\n",
       "#sk-container-id-1 div.sk-parallel-item::after {\n",
       "  content: \"\";\n",
       "  width: 100%;\n",
       "  border-bottom: 2px solid var(--sklearn-color-text-on-default-background);\n",
       "  flex-grow: 1;\n",
       "}\n",
       "\n",
       "#sk-container-id-1 div.sk-parallel {\n",
       "  display: flex;\n",
       "  align-items: stretch;\n",
       "  justify-content: center;\n",
       "  background-color: var(--sklearn-color-background);\n",
       "  position: relative;\n",
       "}\n",
       "\n",
       "#sk-container-id-1 div.sk-parallel-item {\n",
       "  display: flex;\n",
       "  flex-direction: column;\n",
       "}\n",
       "\n",
       "#sk-container-id-1 div.sk-parallel-item:first-child::after {\n",
       "  align-self: flex-end;\n",
       "  width: 50%;\n",
       "}\n",
       "\n",
       "#sk-container-id-1 div.sk-parallel-item:last-child::after {\n",
       "  align-self: flex-start;\n",
       "  width: 50%;\n",
       "}\n",
       "\n",
       "#sk-container-id-1 div.sk-parallel-item:only-child::after {\n",
       "  width: 0;\n",
       "}\n",
       "\n",
       "/* Serial-specific style estimator block */\n",
       "\n",
       "#sk-container-id-1 div.sk-serial {\n",
       "  display: flex;\n",
       "  flex-direction: column;\n",
       "  align-items: center;\n",
       "  background-color: var(--sklearn-color-background);\n",
       "  padding-right: 1em;\n",
       "  padding-left: 1em;\n",
       "}\n",
       "\n",
       "\n",
       "/* Toggleable style: style used for estimator/Pipeline/ColumnTransformer box that is\n",
       "clickable and can be expanded/collapsed.\n",
       "- Pipeline and ColumnTransformer use this feature and define the default style\n",
       "- Estimators will overwrite some part of the style using the `sk-estimator` class\n",
       "*/\n",
       "\n",
       "/* Pipeline and ColumnTransformer style (default) */\n",
       "\n",
       "#sk-container-id-1 div.sk-toggleable {\n",
       "  /* Default theme specific background. It is overwritten whether we have a\n",
       "  specific estimator or a Pipeline/ColumnTransformer */\n",
       "  background-color: var(--sklearn-color-background);\n",
       "}\n",
       "\n",
       "/* Toggleable label */\n",
       "#sk-container-id-1 label.sk-toggleable__label {\n",
       "  cursor: pointer;\n",
       "  display: block;\n",
       "  width: 100%;\n",
       "  margin-bottom: 0;\n",
       "  padding: 0.5em;\n",
       "  box-sizing: border-box;\n",
       "  text-align: center;\n",
       "}\n",
       "\n",
       "#sk-container-id-1 label.sk-toggleable__label-arrow:before {\n",
       "  /* Arrow on the left of the label */\n",
       "  content: \"▸\";\n",
       "  float: left;\n",
       "  margin-right: 0.25em;\n",
       "  color: var(--sklearn-color-icon);\n",
       "}\n",
       "\n",
       "#sk-container-id-1 label.sk-toggleable__label-arrow:hover:before {\n",
       "  color: var(--sklearn-color-text);\n",
       "}\n",
       "\n",
       "/* Toggleable content - dropdown */\n",
       "\n",
       "#sk-container-id-1 div.sk-toggleable__content {\n",
       "  max-height: 0;\n",
       "  max-width: 0;\n",
       "  overflow: hidden;\n",
       "  text-align: left;\n",
       "  /* unfitted */\n",
       "  background-color: var(--sklearn-color-unfitted-level-0);\n",
       "}\n",
       "\n",
       "#sk-container-id-1 div.sk-toggleable__content.fitted {\n",
       "  /* fitted */\n",
       "  background-color: var(--sklearn-color-fitted-level-0);\n",
       "}\n",
       "\n",
       "#sk-container-id-1 div.sk-toggleable__content pre {\n",
       "  margin: 0.2em;\n",
       "  border-radius: 0.25em;\n",
       "  color: var(--sklearn-color-text);\n",
       "  /* unfitted */\n",
       "  background-color: var(--sklearn-color-unfitted-level-0);\n",
       "}\n",
       "\n",
       "#sk-container-id-1 div.sk-toggleable__content.fitted pre {\n",
       "  /* unfitted */\n",
       "  background-color: var(--sklearn-color-fitted-level-0);\n",
       "}\n",
       "\n",
       "#sk-container-id-1 input.sk-toggleable__control:checked~div.sk-toggleable__content {\n",
       "  /* Expand drop-down */\n",
       "  max-height: 200px;\n",
       "  max-width: 100%;\n",
       "  overflow: auto;\n",
       "}\n",
       "\n",
       "#sk-container-id-1 input.sk-toggleable__control:checked~label.sk-toggleable__label-arrow:before {\n",
       "  content: \"▾\";\n",
       "}\n",
       "\n",
       "/* Pipeline/ColumnTransformer-specific style */\n",
       "\n",
       "#sk-container-id-1 div.sk-label input.sk-toggleable__control:checked~label.sk-toggleable__label {\n",
       "  color: var(--sklearn-color-text);\n",
       "  background-color: var(--sklearn-color-unfitted-level-2);\n",
       "}\n",
       "\n",
       "#sk-container-id-1 div.sk-label.fitted input.sk-toggleable__control:checked~label.sk-toggleable__label {\n",
       "  background-color: var(--sklearn-color-fitted-level-2);\n",
       "}\n",
       "\n",
       "/* Estimator-specific style */\n",
       "\n",
       "/* Colorize estimator box */\n",
       "#sk-container-id-1 div.sk-estimator input.sk-toggleable__control:checked~label.sk-toggleable__label {\n",
       "  /* unfitted */\n",
       "  background-color: var(--sklearn-color-unfitted-level-2);\n",
       "}\n",
       "\n",
       "#sk-container-id-1 div.sk-estimator.fitted input.sk-toggleable__control:checked~label.sk-toggleable__label {\n",
       "  /* fitted */\n",
       "  background-color: var(--sklearn-color-fitted-level-2);\n",
       "}\n",
       "\n",
       "#sk-container-id-1 div.sk-label label.sk-toggleable__label,\n",
       "#sk-container-id-1 div.sk-label label {\n",
       "  /* The background is the default theme color */\n",
       "  color: var(--sklearn-color-text-on-default-background);\n",
       "}\n",
       "\n",
       "/* On hover, darken the color of the background */\n",
       "#sk-container-id-1 div.sk-label:hover label.sk-toggleable__label {\n",
       "  color: var(--sklearn-color-text);\n",
       "  background-color: var(--sklearn-color-unfitted-level-2);\n",
       "}\n",
       "\n",
       "/* Label box, darken color on hover, fitted */\n",
       "#sk-container-id-1 div.sk-label.fitted:hover label.sk-toggleable__label.fitted {\n",
       "  color: var(--sklearn-color-text);\n",
       "  background-color: var(--sklearn-color-fitted-level-2);\n",
       "}\n",
       "\n",
       "/* Estimator label */\n",
       "\n",
       "#sk-container-id-1 div.sk-label label {\n",
       "  font-family: monospace;\n",
       "  font-weight: bold;\n",
       "  display: inline-block;\n",
       "  line-height: 1.2em;\n",
       "}\n",
       "\n",
       "#sk-container-id-1 div.sk-label-container {\n",
       "  text-align: center;\n",
       "}\n",
       "\n",
       "/* Estimator-specific */\n",
       "#sk-container-id-1 div.sk-estimator {\n",
       "  font-family: monospace;\n",
       "  border: 1px dotted var(--sklearn-color-border-box);\n",
       "  border-radius: 0.25em;\n",
       "  box-sizing: border-box;\n",
       "  margin-bottom: 0.5em;\n",
       "  /* unfitted */\n",
       "  background-color: var(--sklearn-color-unfitted-level-0);\n",
       "}\n",
       "\n",
       "#sk-container-id-1 div.sk-estimator.fitted {\n",
       "  /* fitted */\n",
       "  background-color: var(--sklearn-color-fitted-level-0);\n",
       "}\n",
       "\n",
       "/* on hover */\n",
       "#sk-container-id-1 div.sk-estimator:hover {\n",
       "  /* unfitted */\n",
       "  background-color: var(--sklearn-color-unfitted-level-2);\n",
       "}\n",
       "\n",
       "#sk-container-id-1 div.sk-estimator.fitted:hover {\n",
       "  /* fitted */\n",
       "  background-color: var(--sklearn-color-fitted-level-2);\n",
       "}\n",
       "\n",
       "/* Specification for estimator info (e.g. \"i\" and \"?\") */\n",
       "\n",
       "/* Common style for \"i\" and \"?\" */\n",
       "\n",
       ".sk-estimator-doc-link,\n",
       "a:link.sk-estimator-doc-link,\n",
       "a:visited.sk-estimator-doc-link {\n",
       "  float: right;\n",
       "  font-size: smaller;\n",
       "  line-height: 1em;\n",
       "  font-family: monospace;\n",
       "  background-color: var(--sklearn-color-background);\n",
       "  border-radius: 1em;\n",
       "  height: 1em;\n",
       "  width: 1em;\n",
       "  text-decoration: none !important;\n",
       "  margin-left: 1ex;\n",
       "  /* unfitted */\n",
       "  border: var(--sklearn-color-unfitted-level-1) 1pt solid;\n",
       "  color: var(--sklearn-color-unfitted-level-1);\n",
       "}\n",
       "\n",
       ".sk-estimator-doc-link.fitted,\n",
       "a:link.sk-estimator-doc-link.fitted,\n",
       "a:visited.sk-estimator-doc-link.fitted {\n",
       "  /* fitted */\n",
       "  border: var(--sklearn-color-fitted-level-1) 1pt solid;\n",
       "  color: var(--sklearn-color-fitted-level-1);\n",
       "}\n",
       "\n",
       "/* On hover */\n",
       "div.sk-estimator:hover .sk-estimator-doc-link:hover,\n",
       ".sk-estimator-doc-link:hover,\n",
       "div.sk-label-container:hover .sk-estimator-doc-link:hover,\n",
       ".sk-estimator-doc-link:hover {\n",
       "  /* unfitted */\n",
       "  background-color: var(--sklearn-color-unfitted-level-3);\n",
       "  color: var(--sklearn-color-background);\n",
       "  text-decoration: none;\n",
       "}\n",
       "\n",
       "div.sk-estimator.fitted:hover .sk-estimator-doc-link.fitted:hover,\n",
       ".sk-estimator-doc-link.fitted:hover,\n",
       "div.sk-label-container:hover .sk-estimator-doc-link.fitted:hover,\n",
       ".sk-estimator-doc-link.fitted:hover {\n",
       "  /* fitted */\n",
       "  background-color: var(--sklearn-color-fitted-level-3);\n",
       "  color: var(--sklearn-color-background);\n",
       "  text-decoration: none;\n",
       "}\n",
       "\n",
       "/* Span, style for the box shown on hovering the info icon */\n",
       ".sk-estimator-doc-link span {\n",
       "  display: none;\n",
       "  z-index: 9999;\n",
       "  position: relative;\n",
       "  font-weight: normal;\n",
       "  right: .2ex;\n",
       "  padding: .5ex;\n",
       "  margin: .5ex;\n",
       "  width: min-content;\n",
       "  min-width: 20ex;\n",
       "  max-width: 50ex;\n",
       "  color: var(--sklearn-color-text);\n",
       "  box-shadow: 2pt 2pt 4pt #999;\n",
       "  /* unfitted */\n",
       "  background: var(--sklearn-color-unfitted-level-0);\n",
       "  border: .5pt solid var(--sklearn-color-unfitted-level-3);\n",
       "}\n",
       "\n",
       ".sk-estimator-doc-link.fitted span {\n",
       "  /* fitted */\n",
       "  background: var(--sklearn-color-fitted-level-0);\n",
       "  border: var(--sklearn-color-fitted-level-3);\n",
       "}\n",
       "\n",
       ".sk-estimator-doc-link:hover span {\n",
       "  display: block;\n",
       "}\n",
       "\n",
       "/* \"?\"-specific style due to the `<a>` HTML tag */\n",
       "\n",
       "#sk-container-id-1 a.estimator_doc_link {\n",
       "  float: right;\n",
       "  font-size: 1rem;\n",
       "  line-height: 1em;\n",
       "  font-family: monospace;\n",
       "  background-color: var(--sklearn-color-background);\n",
       "  border-radius: 1rem;\n",
       "  height: 1rem;\n",
       "  width: 1rem;\n",
       "  text-decoration: none;\n",
       "  /* unfitted */\n",
       "  color: var(--sklearn-color-unfitted-level-1);\n",
       "  border: var(--sklearn-color-unfitted-level-1) 1pt solid;\n",
       "}\n",
       "\n",
       "#sk-container-id-1 a.estimator_doc_link.fitted {\n",
       "  /* fitted */\n",
       "  border: var(--sklearn-color-fitted-level-1) 1pt solid;\n",
       "  color: var(--sklearn-color-fitted-level-1);\n",
       "}\n",
       "\n",
       "/* On hover */\n",
       "#sk-container-id-1 a.estimator_doc_link:hover {\n",
       "  /* unfitted */\n",
       "  background-color: var(--sklearn-color-unfitted-level-3);\n",
       "  color: var(--sklearn-color-background);\n",
       "  text-decoration: none;\n",
       "}\n",
       "\n",
       "#sk-container-id-1 a.estimator_doc_link.fitted:hover {\n",
       "  /* fitted */\n",
       "  background-color: var(--sklearn-color-fitted-level-3);\n",
       "}\n",
       "</style><div id=\"sk-container-id-1\" class=\"sk-top-container\"><div class=\"sk-text-repr-fallback\"><pre>LinearRegression()</pre><b>In a Jupyter environment, please rerun this cell to show the HTML representation or trust the notebook. <br />On GitHub, the HTML representation is unable to render, please try loading this page with nbviewer.org.</b></div><div class=\"sk-container\" hidden><div class=\"sk-item\"><div class=\"sk-estimator fitted sk-toggleable\"><input class=\"sk-toggleable__control sk-hidden--visually\" id=\"sk-estimator-id-1\" type=\"checkbox\" checked><label for=\"sk-estimator-id-1\" class=\"sk-toggleable__label fitted sk-toggleable__label-arrow fitted\">&nbsp;&nbsp;LinearRegression<a class=\"sk-estimator-doc-link fitted\" rel=\"noreferrer\" target=\"_blank\" href=\"https://scikit-learn.org/1.4/modules/generated/sklearn.linear_model.LinearRegression.html\">?<span>Documentation for LinearRegression</span></a><span class=\"sk-estimator-doc-link fitted\">i<span>Fitted</span></span></label><div class=\"sk-toggleable__content fitted\"><pre>LinearRegression()</pre></div> </div></div></div></div>"
      ],
      "text/plain": [
       "LinearRegression()"
      ]
     },
     "execution_count": 8,
     "metadata": {},
     "output_type": "execute_result"
    }
   ],
   "source": [
    "lr=LinearRegression()\n",
    "lr.fit(x_train, y_train)"
   ]
  },
  {
   "cell_type": "code",
   "execution_count": 9,
   "metadata": {},
   "outputs": [
    {
     "data": {
      "text/plain": [
       "array([-1.42108547e-14])"
      ]
     },
     "execution_count": 9,
     "metadata": {},
     "output_type": "execute_result"
    }
   ],
   "source": [
    "c=lr.intercept_\n",
    "c"
   ]
  },
  {
   "cell_type": "code",
   "execution_count": 10,
   "metadata": {},
   "outputs": [
    {
     "data": {
      "text/plain": [
       "array([[1.]])"
      ]
     },
     "execution_count": 10,
     "metadata": {},
     "output_type": "execute_result"
    }
   ],
   "source": [
    "m=lr.coef_\n",
    "m"
   ]
  },
  {
   "cell_type": "code",
   "execution_count": 11,
   "metadata": {},
   "outputs": [
    {
     "data": {
      "text/plain": [
       "array([[ 70.],\n",
       "       [ 76.],\n",
       "       [ 83.],\n",
       "       [ 73.],\n",
       "       [ 65.],\n",
       "       [ 70.],\n",
       "       [ 78.],\n",
       "       [ 74.],\n",
       "       [ 91.],\n",
       "       [ 84.],\n",
       "       [ 75.],\n",
       "       [ 88.],\n",
       "       [ 48.],\n",
       "       [ 79.],\n",
       "       [ 98.],\n",
       "       [ 50.],\n",
       "       [ 85.],\n",
       "       [ 70.],\n",
       "       [ 50.],\n",
       "       [ 52.],\n",
       "       [ 58.],\n",
       "       [ 66.],\n",
       "       [ 84.],\n",
       "       [ 92.],\n",
       "       [ 76.],\n",
       "       [ 57.],\n",
       "       [ 84.],\n",
       "       [ 61.],\n",
       "       [ 74.],\n",
       "       [ 68.],\n",
       "       [ 64.],\n",
       "       [ 62.],\n",
       "       [ 54.],\n",
       "       [ 72.],\n",
       "       [ 80.],\n",
       "       [ 52.],\n",
       "       [ 74.],\n",
       "       [ 79.],\n",
       "       [ 78.],\n",
       "       [ 60.],\n",
       "       [ 54.],\n",
       "       [ 71.],\n",
       "       [ 55.],\n",
       "       [ 70.],\n",
       "       [ 72.],\n",
       "       [ 81.],\n",
       "       [ 58.],\n",
       "       [ 68.],\n",
       "       [ 53.],\n",
       "       [ 66.],\n",
       "       [ 73.],\n",
       "       [ 84.],\n",
       "       [ 54.],\n",
       "       [ 69.],\n",
       "       [ 65.],\n",
       "       [ 89.],\n",
       "       [ 85.],\n",
       "       [ 75.],\n",
       "       [ 77.],\n",
       "       [ 87.],\n",
       "       [ 88.],\n",
       "       [ 91.],\n",
       "       [ 71.],\n",
       "       [ 69.],\n",
       "       [ 72.],\n",
       "       [ 73.],\n",
       "       [ 77.],\n",
       "       [ 67.],\n",
       "       [ 75.],\n",
       "       [ 58.],\n",
       "       [ 71.],\n",
       "       [ 79.],\n",
       "       [ 59.],\n",
       "       [ 76.],\n",
       "       [ 85.],\n",
       "       [ 90.],\n",
       "       [ 79.],\n",
       "       [ 54.],\n",
       "       [ 66.],\n",
       "       [ 48.],\n",
       "       [ 74.],\n",
       "       [ 65.],\n",
       "       [ 61.],\n",
       "       [ 49.],\n",
       "       [ 74.],\n",
       "       [ 79.],\n",
       "       [ 48.],\n",
       "       [ 70.],\n",
       "       [ 66.],\n",
       "       [ 76.],\n",
       "       [ 93.],\n",
       "       [ 68.],\n",
       "       [ 66.],\n",
       "       [ 86.],\n",
       "       [ 90.],\n",
       "       [ 66.],\n",
       "       [ 80.],\n",
       "       [ 92.],\n",
       "       [ 63.],\n",
       "       [ 65.],\n",
       "       [ 62.],\n",
       "       [ 81.],\n",
       "       [ 61.],\n",
       "       [ 78.],\n",
       "       [ 41.],\n",
       "       [ 77.],\n",
       "       [ 54.],\n",
       "       [ 61.],\n",
       "       [ 47.],\n",
       "       [ 62.],\n",
       "       [ 86.],\n",
       "       [ 82.],\n",
       "       [ 96.],\n",
       "       [ 74.],\n",
       "       [ 77.],\n",
       "       [ 97.],\n",
       "       [ 69.],\n",
       "       [ 68.],\n",
       "       [ 87.],\n",
       "       [ 50.],\n",
       "       [ 77.],\n",
       "       [ 64.],\n",
       "       [ 82.],\n",
       "       [ 57.],\n",
       "       [ 60.],\n",
       "       [ 82.],\n",
       "       [ 46.],\n",
       "       [ 77.],\n",
       "       [ 72.],\n",
       "       [ 70.],\n",
       "       [ 68.],\n",
       "       [ 95.],\n",
       "       [ 48.],\n",
       "       [ 66.],\n",
       "       [ 69.],\n",
       "       [ 90.],\n",
       "       [ 90.],\n",
       "       [ 52.],\n",
       "       [ 63.],\n",
       "       [ 76.],\n",
       "       [ 53.],\n",
       "       [ 68.],\n",
       "       [ 65.],\n",
       "       [ 77.],\n",
       "       [ 72.],\n",
       "       [ 54.],\n",
       "       [ 70.],\n",
       "       [ 89.],\n",
       "       [ 65.],\n",
       "       [ 80.],\n",
       "       [ 64.],\n",
       "       [ 86.],\n",
       "       [ 63.],\n",
       "       [ 86.],\n",
       "       [ 44.],\n",
       "       [ 99.],\n",
       "       [ 67.],\n",
       "       [ 85.],\n",
       "       [ 94.],\n",
       "       [ 95.],\n",
       "       [ 87.],\n",
       "       [ 53.],\n",
       "       [ 80.],\n",
       "       [ 61.],\n",
       "       [ 82.],\n",
       "       [ 84.],\n",
       "       [ 71.],\n",
       "       [ 91.],\n",
       "       [ 39.],\n",
       "       [ 54.],\n",
       "       [ 53.],\n",
       "       [ 83.],\n",
       "       [ 87.],\n",
       "       [ 59.],\n",
       "       [ 60.],\n",
       "       [ 45.],\n",
       "       [ 71.],\n",
       "       [ 99.],\n",
       "       [ 50.],\n",
       "       [ 78.],\n",
       "       [ 74.],\n",
       "       [ 87.],\n",
       "       [ 89.],\n",
       "       [ 84.],\n",
       "       [ 74.],\n",
       "       [ 54.],\n",
       "       [ 64.],\n",
       "       [ 42.],\n",
       "       [ 84.],\n",
       "       [ 61.],\n",
       "       [ 67.],\n",
       "       [ 90.],\n",
       "       [ 73.],\n",
       "       [ 84.],\n",
       "       [ 85.],\n",
       "       [ 76.],\n",
       "       [ 81.],\n",
       "       [ 81.],\n",
       "       [ 85.],\n",
       "       [ 55.],\n",
       "       [ 83.],\n",
       "       [ 85.],\n",
       "       [ 59.],\n",
       "       [ 83.],\n",
       "       [ 59.],\n",
       "       [ 77.],\n",
       "       [ 74.],\n",
       "       [ 52.],\n",
       "       [ 94.],\n",
       "       [ 71.],\n",
       "       [ 51.],\n",
       "       [ 83.],\n",
       "       [ 40.],\n",
       "       [ 77.],\n",
       "       [ 69.],\n",
       "       [ 90.],\n",
       "       [ 71.],\n",
       "       [ 68.],\n",
       "       [ 80.],\n",
       "       [ 79.],\n",
       "       [ 48.],\n",
       "       [ 72.],\n",
       "       [ 43.],\n",
       "       [ 76.],\n",
       "       [ 77.],\n",
       "       [ 70.],\n",
       "       [ 59.],\n",
       "       [ 65.],\n",
       "       [ 67.],\n",
       "       [ 82.],\n",
       "       [ 82.],\n",
       "       [ 65.],\n",
       "       [ 58.],\n",
       "       [ 45.],\n",
       "       [ 52.],\n",
       "       [ 60.],\n",
       "       [ 66.],\n",
       "       [ 73.],\n",
       "       [101.],\n",
       "       [ 59.],\n",
       "       [ 66.],\n",
       "       [ 71.],\n",
       "       [ 93.],\n",
       "       [ 77.],\n",
       "       [ 79.],\n",
       "       [ 78.],\n",
       "       [ 87.],\n",
       "       [ 83.],\n",
       "       [ 66.],\n",
       "       [ 78.],\n",
       "       [ 90.],\n",
       "       [ 68.],\n",
       "       [ 51.],\n",
       "       [ 82.],\n",
       "       [ 78.],\n",
       "       [ 81.],\n",
       "       [ 79.],\n",
       "       [ 84.],\n",
       "       [ 61.],\n",
       "       [ 80.],\n",
       "       [ 85.],\n",
       "       [ 99.],\n",
       "       [ 78.],\n",
       "       [ 55.],\n",
       "       [ 82.],\n",
       "       [ 78.],\n",
       "       [ 68.],\n",
       "       [ 72.],\n",
       "       [ 73.],\n",
       "       [ 76.],\n",
       "       [ 70.],\n",
       "       [ 86.],\n",
       "       [ 62.],\n",
       "       [ 78.],\n",
       "       [ 85.],\n",
       "       [ 66.],\n",
       "       [ 79.],\n",
       "       [ 95.],\n",
       "       [ 78.],\n",
       "       [ 80.],\n",
       "       [ 86.],\n",
       "       [ 66.],\n",
       "       [ 88.],\n",
       "       [ 75.],\n",
       "       [ 79.],\n",
       "       [ 64.],\n",
       "       [ 74.],\n",
       "       [ 66.],\n",
       "       [ 55.],\n",
       "       [ 80.],\n",
       "       [ 86.],\n",
       "       [ 76.]])"
      ]
     },
     "execution_count": 11,
     "metadata": {},
     "output_type": "execute_result"
    }
   ],
   "source": [
    "y_pred_train=m*x_train+c\n",
    "y_pred_train"
   ]
  },
  {
   "cell_type": "code",
   "execution_count": 12,
   "metadata": {},
   "outputs": [
    {
     "data": {
      "text/plain": [
       "array([ 70.,  76.,  83.,  73.,  65.,  70.,  78.,  74.,  91.,  84.,  75.,\n",
       "        88.,  48.,  79.,  98.,  50.,  85.,  70.,  50.,  52.,  58.,  66.,\n",
       "        84.,  92.,  76.,  57.,  84.,  61.,  74.,  68.,  64.,  62.,  54.,\n",
       "        72.,  80.,  52.,  74.,  79.,  78.,  60.,  54.,  71.,  55.,  70.,\n",
       "        72.,  81.,  58.,  68.,  53.,  66.,  73.,  84.,  54.,  69.,  65.,\n",
       "        89.,  85.,  75.,  77.,  87.,  88.,  91.,  71.,  69.,  72.,  73.,\n",
       "        77.,  67.,  75.,  58.,  71.,  79.,  59.,  76.,  85.,  90.,  79.,\n",
       "        54.,  66.,  48.,  74.,  65.,  61.,  49.,  74.,  79.,  48.,  70.,\n",
       "        66.,  76.,  93.,  68.,  66.,  86.,  90.,  66.,  80.,  92.,  63.,\n",
       "        65.,  62.,  81.,  61.,  78.,  41.,  77.,  54.,  61.,  47.,  62.,\n",
       "        86.,  82.,  96.,  74.,  77.,  97.,  69.,  68.,  87.,  50.,  77.,\n",
       "        64.,  82.,  57.,  60.,  82.,  46.,  77.,  72.,  70.,  68.,  95.,\n",
       "        48.,  66.,  69.,  90.,  90.,  52.,  63.,  76.,  53.,  68.,  65.,\n",
       "        77.,  72.,  54.,  70.,  89.,  65.,  80.,  64.,  86.,  63.,  86.,\n",
       "        44.,  99.,  67.,  85.,  94.,  95.,  87.,  53.,  80.,  61.,  82.,\n",
       "        84.,  71.,  91.,  39.,  54.,  53.,  83.,  87.,  59.,  60.,  45.,\n",
       "        71.,  99.,  50.,  78.,  74.,  87.,  89.,  84.,  74.,  54.,  64.,\n",
       "        42.,  84.,  61.,  67.,  90.,  73.,  84.,  85.,  76.,  81.,  81.,\n",
       "        85.,  55.,  83.,  85.,  59.,  83.,  59.,  77.,  74.,  52.,  94.,\n",
       "        71.,  51.,  83.,  40.,  77.,  69.,  90.,  71.,  68.,  80.,  79.,\n",
       "        48.,  72.,  43.,  76.,  77.,  70.,  59.,  65.,  67.,  82.,  82.,\n",
       "        65.,  58.,  45.,  52.,  60.,  66.,  73., 101.,  59.,  66.,  71.,\n",
       "        93.,  77.,  79.,  78.,  87.,  83.,  66.,  78.,  90.,  68.,  51.,\n",
       "        82.,  78.,  81.,  79.,  84.,  61.,  80.,  85.,  99.,  78.,  55.,\n",
       "        82.,  78.,  68.,  72.,  73.,  76.,  70.,  86.,  62.,  78.,  85.,\n",
       "        66.,  79.,  95.,  78.,  80.,  86.,  66.,  88.,  75.,  79.,  64.,\n",
       "        74.,  66.,  55.,  80.,  86.,  76.])"
      ]
     },
     "execution_count": 12,
     "metadata": {},
     "output_type": "execute_result"
    }
   ],
   "source": [
    "y_pred_train1=lr.predict(x_train)\n",
    "y_pred_train1.flatten()"
   ]
  },
  {
   "cell_type": "code",
   "execution_count": 13,
   "metadata": {},
   "outputs": [
    {
     "data": {
      "text/plain": [
       "Text(0, 0.5, 'Ice Cream Profits')"
      ]
     },
     "execution_count": 13,
     "metadata": {},
     "output_type": "execute_result"
    },
    {
     "data": {
      "image/png": "[encoded data removed]",
      "text/plain": [
       "<Figure size 640x480 with 1 Axes>"
      ]
     },
     "metadata": {},
     "output_type": "display_data"
    }
   ],
   "source": [
    "plt.scatter(x_train,y_train)\n",
    "plt.scatter(x_train,y_pred_train1,color=\"red\")\n",
    "plt.xlabel(\"Temperature\")\n",
    "plt.ylabel(\"Ice Cream Profits\")"
   ]
  },
  {
   "cell_type": "code",
   "execution_count": null,
   "metadata": {},
   "outputs": [],
   "source": []
  },
  {
   "cell_type": "code",
   "execution_count": 14,
   "metadata": {},
   "outputs": [
    {
     "data": {
      "text/plain": [
       "array([ 64.,  71.,  49.,  74.,  59.,  58.,  65.,  82.,  96.,  61.,  89.,\n",
       "        46.,  81.,  77.,  77.,  92.,  84.,  82.,  85.,  92.,  81.,  66.,\n",
       "        74.,  56.,  75.,  76.,  79.,  72.,  84.,  69.,  68.,  95.,  45.,\n",
       "        56.,  68.,  59.,  81.,  75.,  64.,  77.,  48.,  79.,  64.,  81.,\n",
       "        58.,  67.,  78.,  54.,  76.,  96.,  82.,  84.,  73.,  72.,  68.,\n",
       "        63.,  60.,  61.,  84.,  64.,  73.,  63.,  72.,  67.,  77.,  44.,\n",
       "        73.,  85., 101.,  86.,  50.,  80.,  43.])"
      ]
     },
     "execution_count": 14,
     "metadata": {},
     "output_type": "execute_result"
    }
   ],
   "source": [
    "y_pred=lr.predict(x_test)\n",
    "y_pred.flatten()"
   ]
  },
  {
   "cell_type": "code",
   "execution_count": 15,
   "metadata": {},
   "outputs": [
    {
     "data": {
      "text/plain": [
       "Text(0, 0.5, 'Ice Cream Profits')"
      ]
     },
     "execution_count": 15,
     "metadata": {},
     "output_type": "execute_result"
    },
    {
     "data": {
      "image/png": "[encoded data removed]",
      "text/plain": [
       "<Figure size 640x480 with 1 Axes>"
      ]
     },
     "metadata": {},
     "output_type": "display_data"
    }
   ],
   "source": [
    "plt.scatter(x_test,y_test)\n",
    "plt.scatter(x_test,y_pred,color=\"red\")\n",
    "plt.xlabel(\"Temperature\")\n",
    "plt.ylabel(\"Ice Cream Profits\")"
   ]
  },
  {
   "cell_type": "code",
   "execution_count": 16,
   "metadata": {},
   "outputs": [
    {
     "name": "stdout",
     "output_type": "stream",
     "text": [
      "MSE -->  1.1065665300634466e-29\n"
     ]
    }
   ],
   "source": [
    "# MSE\n",
    "mse = mean_squared_error(y_test, y_pred)\n",
    "print(\"MSE --> \", mse)"
   ]
  },
  {
   "cell_type": "code",
   "execution_count": 17,
   "metadata": {},
   "outputs": [
    {
     "name": "stdout",
     "output_type": "stream",
     "text": [
      "RMSE -->  3.3265094770095673e-15\n"
     ]
    }
   ],
   "source": [
    "# RMSE\n",
    "rmse = math.sqrt(mse)\n",
    "print(\"RMSE --> \", rmse)"
   ]
  },
  {
   "cell_type": "code",
   "execution_count": 18,
   "metadata": {},
   "outputs": [
    {
     "name": "stdout",
     "output_type": "stream",
     "text": [
      "MAE -->  9.733462133700002e-16\n"
     ]
    }
   ],
   "source": [
    "# MAE\n",
    "mae = mean_absolute_error(y_test, y_pred)\n",
    "print(\"MAE --> \", mae)"
   ]
  },
  {
   "cell_type": "code",
   "execution_count": 19,
   "metadata": {},
   "outputs": [
    {
     "name": "stdout",
     "output_type": "stream",
     "text": [
      "R2 -->  1.0\n"
     ]
    }
   ],
   "source": [
    "# R2\n",
    "r2 = r2_score(y_test, y_pred)\n",
    "print(\"R2 --> \", r2)"
   ]
  },
  {
   "cell_type": "code",
   "execution_count": 20,
   "metadata": {},
   "outputs": [
    {
     "name": "stdout",
     "output_type": "stream",
     "text": [
      "MSE -->  1.1065665300634466e-29\n",
      "RMSE -->  3.3265094770095673e-15\n",
      "MAE -->  9.733462133700002e-16\n",
      "R2 -->  1.0\n"
     ]
    }
   ],
   "source": [
    "# print them all\n",
    "print(\"MSE --> \", mse)\n",
    "print(\"RMSE --> \", rmse)\n",
    "print(\"MAE --> \", mae)\n",
    "print(\"R2 --> \", r2)      "
   ]
  },
  {
   "cell_type": "code",
   "execution_count": 21,
   "metadata": {},
   "outputs": [
    {
     "name": "stdout",
     "output_type": "stream",
     "text": [
      "Best Alpha: 0.1\n",
      "Tuned Training Data Score: 0.9999999999961703\n",
      "Tuned Testing Data Score: 0.9999999999961665\n"
     ]
    }
   ],
   "source": [
    "\n",
    "\n",
    "# Define a range of alpha values to search\n",
    "param_grid = {'alpha': [0.1, 1.0, 10.0]}\n",
    "\n",
    "# Perform grid search with cross-validation\n",
    "grid_search = GridSearchCV(Ridge(), param_grid, cv=5)\n",
    "grid_search.fit(x_train, y_train)\n",
    "\n",
    "# Get the best alpha value found by grid search\n",
    "best_alpha = grid_search.best_params_['alpha']\n",
    "print(\"Best Alpha:\", best_alpha)\n",
    "\n",
    "# Initialize Ridge regression with the best alpha value\n",
    "ridge_tuned = Ridge(alpha=best_alpha)\n",
    "ridge_tuned.fit(x_train, y_train)\n",
    "\n",
    "# Evaluate the tuned model\n",
    "training_score_tuned = ridge_tuned.score(x_train, y_train)\n",
    "testing_score_tuned = ridge_tuned.score(x_test, y_test)\n",
    "\n",
    "print(\"Tuned Training Data Score:\", training_score_tuned)\n",
    "print(\"Tuned Testing Data Score:\", testing_score_tuned)"
   ]
  },
  {
   "cell_type": "code",
   "execution_count": 22,
   "metadata": {},
   "outputs": [
    {
     "name": "stdout",
     "output_type": "stream",
     "text": [
      "Coefficients (M): [[0.99999804]]\n",
      "Intercept (c): [0.00014103]\n",
      "Training Data Metrics:\n",
      "Mean Squared Error: 6.701878605833867e-10\n",
      "Mean Absolute Error: 2.1247337826302433e-05\n",
      "R-squared Score: 0.9999999999961703\n",
      "Root Mean Squared Error: 2.588798680051013e-05\n",
      "\n",
      "Testing Data Metrics:\n",
      "Mean Squared Error: 6.762078653077236e-10\n",
      "Mean Absolute Error: 2.1065514586246236e-05\n",
      "R-squared Score: 0.9999999999961665\n",
      "Root Mean Squared Error: 2.6003997102517213e-05\n"
     ]
    }
   ],
   "source": [
    "# Coefficients and intercept\n",
    "M = ridge_tuned.coef_\n",
    "c = ridge_tuned.intercept_\n",
    "\n",
    "# Predictions on training and testing data\n",
    "y_train_pred = ridge_tuned.predict(x_train)\n",
    "y_test_pred = ridge_tuned.predict(x_test)\n",
    "\n",
    "# Calculate evaluation metrics\n",
    "mse_train = mean_squared_error(y_train, y_train_pred)\n",
    "mse_test = mean_squared_error(y_test, y_test_pred)\n",
    "\n",
    "mae_train = mean_absolute_error(y_train, y_train_pred)\n",
    "mae_test = mean_absolute_error(y_test, y_test_pred)\n",
    "\n",
    "r2_train = r2_score(y_train, y_train_pred)\n",
    "r2_test = r2_score(y_test, y_test_pred)\n",
    "\n",
    "# Calculate RMSE\n",
    "rmse_train = np.sqrt(mse_train)\n",
    "rmse_test = np.sqrt(mse_test)\n",
    "\n",
    "print(\"Coefficients (M):\", M)\n",
    "print(\"Intercept (c):\", c)\n",
    "print(\"Training Data Metrics:\")\n",
    "print(\"Mean Squared Error:\", mse_train)\n",
    "print(\"Mean Absolute Error:\", mae_train)\n",
    "print(\"R-squared Score:\", r2_train)\n",
    "print(\"Root Mean Squared Error:\", rmse_train)\n",
    "print(\"\\nTesting Data Metrics:\")\n",
    "print(\"Mean Squared Error:\", mse_test)\n",
    "print(\"Mean Absolute Error:\", mae_test)\n",
    "print(\"R-squared Score:\", r2_test)\n",
    "print(\"Root Mean Squared Error:\", rmse_test)   \n"
   ]
  },
  {
   "cell_type": "code",
   "execution_count": 23,
   "metadata": {},
   "outputs": [
    {
     "name": "stdout",
     "output_type": "stream",
     "text": [
      "Best Alpha: 0.001\n",
      "Tuned Training Data Score: 0.9999999999999997\n",
      "Tuned Testing Data Score: 0.9999999999999997\n"
     ]
    }
   ],
   "source": [
    "# Define a wider range of alpha values to search\n",
    "param_grid = {'alpha': [0.001, 0.01, 0.1, 1.0, 10.0, 100.0]}\n",
    "\n",
    "# Perform grid search with cross-validation\n",
    "grid_search = GridSearchCV(Ridge(), param_grid, cv=5)\n",
    "grid_search.fit(x_train, y_train)\n",
    "\n",
    "# Get the best alpha value found by grid search\n",
    "best_alpha = grid_search.best_params_['alpha']\n",
    "print(\"Best Alpha:\", best_alpha)\n",
    "\n",
    "# Initialize Ridge regression with the best alpha value\n",
    "ridge_tuned = Ridge(alpha=best_alpha)\n",
    "ridge_tuned.fit(x_train, y_train)\n",
    "\n",
    "# Evaluate the tuned model\n",
    "training_score_tuned = ridge_tuned.score(x_train, y_train)\n",
    "testing_score_tuned = ridge_tuned.score(x_test, y_test)\n",
    "\n",
    "print(\"Tuned Training Data Score:\", training_score_tuned)\n",
    "print(\"Tuned Testing Data Score:\", testing_score_tuned)\n"
   ]
  },
  {
   "cell_type": "code",
   "execution_count": 24,
   "metadata": {},
   "outputs": [
    {
     "name": "stdout",
     "output_type": "stream",
     "text": [
      "Best Alpha: 0.001\n",
      "Tuned Training Data Score: 0.9999999999999997\n",
      "Tuned Testing Data Score: 0.9999999999999997\n"
     ]
    }
   ],
   "source": [
    "# Define a range of alpha values to search\n",
    "param_grid = {'alpha': [0.001, 0.1, 1.0, 10.0]}\n",
    "\n",
    "# Perform grid search with cross-validation\n",
    "grid_search = GridSearchCV(Ridge(), param_grid, cv=5)\n",
    "grid_search.fit(x_train, y_train)\n",
    "\n",
    "# Get the best alpha value found by grid search\n",
    "best_alpha = grid_search.best_params_['alpha']\n",
    "print(\"Best Alpha:\", best_alpha)\n",
    "\n",
    "# Initialize Ridge regression with the best alpha value\n",
    "ridge_tuned = Ridge(alpha=best_alpha)\n",
    "ridge_tuned.fit(x_train, y_train)\n",
    "\n",
    "# Evaluate the tuned model\n",
    "training_score_tuned = ridge_tuned.score(x_train, y_train)\n",
    "testing_score_tuned = ridge_tuned.score(x_test, y_test)\n",
    "\n",
    "print(\"Tuned Training Data Score:\", training_score_tuned)\n",
    "print(\"Tuned Testing Data Score:\", testing_score_tuned)   \n",
    "   "
   ]
  },
  {
   "cell_type": "code",
   "execution_count": 25,
   "metadata": {},
   "outputs": [
    {
     "name": "stdout",
     "output_type": "stream",
     "text": [
      "Coefficients (M): [[0.99999998]]\n",
      "Intercept (c): [1.41028181e-06]\n",
      "\n",
      "Training Data Metrics:\n",
      "Mean Squared Error: 6.701904668782178e-14\n",
      "Mean Absolute Error: 2.124737915229529e-07\n",
      "R-squared Score: 0.9999999999999997\n",
      "Root Mean Squared Error: 2.5888037138381463e-07\n",
      "\n",
      "Testing Data Metrics:\n",
      "Mean Squared Error: 6.76210492329436e-14\n",
      "Mean Absolute Error: 2.1065555524603965e-07\n",
      "R-squared Score: 0.9999999999999997\n",
      "Root Mean Squared Error: 2.600404761435104e-07\n"
     ]
    }
   ],
   "source": [
    "# Coefficients and intercept\n",
    "M = ridge_tuned.coef_\n",
    "c = ridge_tuned.intercept_\n",
    "\n",
    "# Predictions on training and testing data\n",
    "y_train_pred = ridge_tuned.predict(x_train)\n",
    "y_test_pred = ridge_tuned.predict(x_test)\n",
    "\n",
    "# Calculate evaluation metrics\n",
    "mse_train = mean_squared_error(y_train, y_train_pred)\n",
    "mse_test = mean_squared_error(y_test, y_test_pred)\n",
    "\n",
    "mae_train = mean_absolute_error(y_train, y_train_pred)\n",
    "mae_test = mean_absolute_error(y_test, y_test_pred)\n",
    "\n",
    "r2_train = r2_score(y_train, y_train_pred)\n",
    "r2_test = r2_score(y_test, y_test_pred)\n",
    "\n",
    "# Calculate RMSE\n",
    "rmse_train = np.sqrt(mse_train)\n",
    "rmse_test = np.sqrt(mse_test)     \n",
    "\n",
    "print(\"Coefficients (M):\", M)\n",
    "print(\"Intercept (c):\", c)\n",
    "print(\"\\nTraining Data Metrics:\")\n",
    "print(\"Mean Squared Error:\", mse_train)\n",
    "print(\"Mean Absolute Error:\", mae_train)\n",
    "print(\"R-squared Score:\", r2_train)\n",
    "print(\"Root Mean Squared Error:\", rmse_train)\n",
    "print(\"\\nTesting Data Metrics:\")\n",
    "print(\"Mean Squared Error:\", mse_test)\n",
    "print(\"Mean Absolute Error:\", mae_test)\n",
    "print(\"R-squared Score:\", r2_test)\n",
    "print(\"Root Mean Squared Error:\", rmse_test)\n"
   ]
  }
 ],
 "metadata": {
  "kernelspec": {
   "display_name": "Python 3",
   "language": "python",
   "name": "python3"
  },
  "language_info": {
   "codemirror_mode": {
    "name": "ipython",
    "version": 3
   },
   "file_extension": ".py",
   "mimetype": "text/x-python",
   "name": "python",
   "nbconvert_exporter": "python",
   "pygments_lexer": "ipython3",
   "version": "3.11.8"
  }
 },
 "nbformat": 4,
 "nbformat_minor": 2
}
