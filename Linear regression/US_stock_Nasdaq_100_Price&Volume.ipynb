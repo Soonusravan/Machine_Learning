{
 "cells": [
  {
   "cell_type": "markdown",
   "metadata": {},
   "source": [
    "US Stocks"
   ]
  },
  {
   "cell_type": "code",
   "execution_count": 1,
   "metadata": {},
   "outputs": [],
   "source": [
    "# Import necessary libraries\n",
    "import numpy as np \n",
    "import pandas as pd\n",
    "import matplotlib.pyplot as plt\n",
    "import math\n",
    "\n",
    "# Import scikit-learn modules\n",
    "from sklearn import datasets\n",
    "from sklearn import model_selection\n",
    "from sklearn.model_selection import train_test_split\n",
    "from sklearn.linear_model import LinearRegression\n",
    "from sklearn.metrics import mean_squared_error, mean_absolute_error, r2_score\n",
    "from sklearn.linear_model import Ridge\n",
    "from sklearn.preprocessing import StandardScaler\n",
    "from sklearn.datasets import make_regression\n",
    "from sklearn.model_selection import GridSearchCV "
   ]
  },
  {
   "cell_type": "code",
   "execution_count": 2,
   "metadata": {},
   "outputs": [],
   "source": [
    "US_stocks = pd.read_csv(r\"C:\\Sravan ML\\Machine Learning\\Linear regression\\US Stock Market Dataset.csv\")"
   ]
  },
  {
   "cell_type": "code",
   "execution_count": 3,
   "metadata": {},
   "outputs": [
    {
     "name": "stdout",
     "output_type": "stream",
     "text": [
      "<class 'pandas.core.frame.DataFrame'>\n",
      "RangeIndex: 1012 entries, 0 to 1011\n",
      "Data columns (total 39 columns):\n",
      " #   Column             Non-Null Count  Dtype  \n",
      "---  ------             --------------  -----  \n",
      " 0   Unnamed: 0         1012 non-null   int64  \n",
      " 1   Date               1012 non-null   object \n",
      " 2   Natural_Gas_Price  1012 non-null   float64\n",
      " 3   Natural_Gas_Vol.   1009 non-null   float64\n",
      " 4   Crude_oil_Price    1012 non-null   float64\n",
      " 5   Crude_oil_Vol.     990 non-null    float64\n",
      " 6   Copper_Price       1012 non-null   float64\n",
      " 7   Copper_Vol.        976 non-null    float64\n",
      " 8   Bitcoin_Price      1012 non-null   object \n",
      " 9   Bitcoin_Vol.       1012 non-null   int64  \n",
      " 10  Platinum_Price     1012 non-null   object \n",
      " 11  Platinum_Vol.      636 non-null    float64\n",
      " 12  Ethereum_Price     1012 non-null   object \n",
      " 13  Ethereum_Vol.      1012 non-null   int64  \n",
      " 14  S&P_500_Price      1012 non-null   object \n",
      " 15  Nasdaq_100_Price   1012 non-null   object \n",
      " 16  Nasdaq_100_Vol.    1011 non-null   float64\n",
      " 17  Apple_Price        1012 non-null   float64\n",
      " 18  Apple_Vol.         1012 non-null   int64  \n",
      " 19  Tesla_Price        1012 non-null   float64\n",
      " 20  Tesla_Vol.         1012 non-null   int64  \n",
      " 21  Microsoft_Price    1012 non-null   float64\n",
      " 22  Microsoft_Vol.     1012 non-null   int64  \n",
      " 23  Silver_Price       1012 non-null   float64\n",
      " 24  Silver_Vol.        967 non-null    float64\n",
      " 25  Google_Price       1012 non-null   float64\n",
      " 26  Google_Vol.        1012 non-null   int64  \n",
      " 27  Nvidia_Price       1012 non-null   float64\n",
      " 28  Nvidia_Vol.        1012 non-null   int64  \n",
      " 29  Berkshire_Price    1012 non-null   object \n",
      " 30  Berkshire_Vol.     1012 non-null   int64  \n",
      " 31  Netflix_Price      1012 non-null   float64\n",
      " 32  Netflix_Vol.       1012 non-null   int64  \n",
      " 33  Amazon_Price       1012 non-null   float64\n",
      " 34  Amazon_Vol.        1012 non-null   int64  \n",
      " 35  Meta_Price         1012 non-null   float64\n",
      " 36  Meta_Vol.          1012 non-null   int64  \n",
      " 37  Gold_Price         1012 non-null   object \n",
      " 38  Gold_Vol.          1011 non-null   float64\n",
      "dtypes: float64(19), int64(12), object(8)\n",
      "memory usage: 308.5+ KB\n"
     ]
    }
   ],
   "source": [
    "US_stocks.info()"
   ]
  },
  {
   "cell_type": "code",
   "execution_count": 4,
   "metadata": {},
   "outputs": [
    {
     "data": {
      "text/plain": [
       "Unnamed: 0             0\n",
       "Date                   0\n",
       "Natural_Gas_Price      0\n",
       "Natural_Gas_Vol.       3\n",
       "Crude_oil_Price        0\n",
       "Crude_oil_Vol.        22\n",
       "Copper_Price           0\n",
       "Copper_Vol.           36\n",
       "Bitcoin_Price          0\n",
       "Bitcoin_Vol.           0\n",
       "Platinum_Price         0\n",
       "Platinum_Vol.        376\n",
       "Ethereum_Price         0\n",
       "Ethereum_Vol.          0\n",
       "S&P_500_Price          0\n",
       "Nasdaq_100_Price       0\n",
       "Nasdaq_100_Vol.        1\n",
       "Apple_Price            0\n",
       "Apple_Vol.             0\n",
       "Tesla_Price            0\n",
       "Tesla_Vol.             0\n",
       "Microsoft_Price        0\n",
       "Microsoft_Vol.         0\n",
       "Silver_Price           0\n",
       "Silver_Vol.           45\n",
       "Google_Price           0\n",
       "Google_Vol.            0\n",
       "Nvidia_Price           0\n",
       "Nvidia_Vol.            0\n",
       "Berkshire_Price        0\n",
       "Berkshire_Vol.         0\n",
       "Netflix_Price          0\n",
       "Netflix_Vol.           0\n",
       "Amazon_Price           0\n",
       "Amazon_Vol.            0\n",
       "Meta_Price             0\n",
       "Meta_Vol.              0\n",
       "Gold_Price             0\n",
       "Gold_Vol.              1\n",
       "dtype: int64"
      ]
     },
     "execution_count": 4,
     "metadata": {},
     "output_type": "execute_result"
    }
   ],
   "source": [
    "US_stocks.isnull().sum()"
   ]
  },
  {
   "cell_type": "code",
   "execution_count": 5,
   "metadata": {},
   "outputs": [
    {
     "name": "stdout",
     "output_type": "stream",
     "text": [
      "Unnamed: 0           0\n",
      "Date                 0\n",
      "Natural_Gas_Price    0\n",
      "Natural_Gas_Vol.     0\n",
      "Crude_oil_Price      0\n",
      "Crude_oil_Vol.       0\n",
      "Copper_Price         0\n",
      "Copper_Vol.          0\n",
      "Bitcoin_Price        0\n",
      "Bitcoin_Vol.         0\n",
      "Platinum_Price       0\n",
      "Platinum_Vol.        0\n",
      "Ethereum_Price       0\n",
      "Ethereum_Vol.        0\n",
      "S&P_500_Price        0\n",
      "Nasdaq_100_Price     0\n",
      "Nasdaq_100_Vol.      0\n",
      "Apple_Price          0\n",
      "Apple_Vol.           0\n",
      "Tesla_Price          0\n",
      "Tesla_Vol.           0\n",
      "Microsoft_Price      0\n",
      "Microsoft_Vol.       0\n",
      "Silver_Price         0\n",
      "Silver_Vol.          0\n",
      "Google_Price         0\n",
      "Google_Vol.          0\n",
      "Nvidia_Price         0\n",
      "Nvidia_Vol.          0\n",
      "Berkshire_Price      0\n",
      "Berkshire_Vol.       0\n",
      "Netflix_Price        0\n",
      "Netflix_Vol.         0\n",
      "Amazon_Price         0\n",
      "Amazon_Vol.          0\n",
      "Meta_Price           0\n",
      "Meta_Vol.            0\n",
      "Gold_Price           0\n",
      "Gold_Vol.            0\n",
      "dtype: int64\n"
     ]
    }
   ],
   "source": [
    "# Calculate the mean of numeric columns\n",
    "numeric_columns = US_stocks.select_dtypes(include=[np.number])\n",
    "column_means = numeric_columns.mean()\n",
    "\n",
    "# Fill null values with the respective column means\n",
    "df_filled = US_stocks.fillna(column_means)\n",
    "\n",
    "# Check if there are any remaining null values\n",
    "df=df_filled\n",
    "print(df.isnull().sum())\n"
   ]
  },
  {
   "cell_type": "code",
   "execution_count": 6,
   "metadata": {},
   "outputs": [],
   "source": [
    "# Remove commas and spaces from all columns\n",
    "df = df.replace({',': '', ' ': ''}, regex=True)"
   ]
  },
  {
   "cell_type": "code",
   "execution_count": 7,
   "metadata": {},
   "outputs": [],
   "source": [
    "# List of columns to process\n",
    "columns_to_process = ['Natural_Gas_Price', 'Natural_Gas_Vol.', 'Crude_oil_Price', 'Crude_oil_Vol.',\n",
    "                      'Copper_Price', 'Copper_Vol.', 'Bitcoin_Price', 'Bitcoin_Vol.',\n",
    "                      'Platinum_Price', 'Platinum_Vol.', 'Ethereum_Price', 'Ethereum_Vol.',\n",
    "                      'S&P_500_Price', 'Nasdaq_100_Price', 'Nasdaq_100_Vol.',\n",
    "                      'Apple_Price', 'Apple_Vol.', 'Tesla_Price', 'Tesla_Vol.',\n",
    "                      'Microsoft_Price', 'Microsoft_Vol.', 'Silver_Price', 'Silver_Vol.',\n",
    "                      'Google_Price', 'Google_Vol.', 'Nvidia_Price', 'Nvidia_Vol.',\n",
    "                      'Berkshire_Price', 'Berkshire_Vol.', 'Netflix_Price', 'Netflix_Vol.',\n",
    "                      'Amazon_Price', 'Amazon_Vol.', 'Meta_Price', 'Meta_Vol.',\n",
    "                      'Gold_Price', 'Gold_Vol.']\n",
    "\n",
    "# Convert the columns to float\n",
    "df[columns_to_process] = df[columns_to_process].astype(float)"
   ]
  },
  {
   "cell_type": "code",
   "execution_count": 8,
   "metadata": {},
   "outputs": [
    {
     "name": "stdout",
     "output_type": "stream",
     "text": [
      "<class 'pandas.core.frame.DataFrame'>\n",
      "RangeIndex: 1012 entries, 0 to 1011\n",
      "Data columns (total 39 columns):\n",
      " #   Column             Non-Null Count  Dtype  \n",
      "---  ------             --------------  -----  \n",
      " 0   Unnamed: 0         1012 non-null   int64  \n",
      " 1   Date               1012 non-null   object \n",
      " 2   Natural_Gas_Price  1012 non-null   float64\n",
      " 3   Natural_Gas_Vol.   1012 non-null   float64\n",
      " 4   Crude_oil_Price    1012 non-null   float64\n",
      " 5   Crude_oil_Vol.     1012 non-null   float64\n",
      " 6   Copper_Price       1012 non-null   float64\n",
      " 7   Copper_Vol.        1012 non-null   float64\n",
      " 8   Bitcoin_Price      1012 non-null   float64\n",
      " 9   Bitcoin_Vol.       1012 non-null   float64\n",
      " 10  Platinum_Price     1012 non-null   float64\n",
      " 11  Platinum_Vol.      1012 non-null   float64\n",
      " 12  Ethereum_Price     1012 non-null   float64\n",
      " 13  Ethereum_Vol.      1012 non-null   float64\n",
      " 14  S&P_500_Price      1012 non-null   float64\n",
      " 15  Nasdaq_100_Price   1012 non-null   float64\n",
      " 16  Nasdaq_100_Vol.    1012 non-null   float64\n",
      " 17  Apple_Price        1012 non-null   float64\n",
      " 18  Apple_Vol.         1012 non-null   float64\n",
      " 19  Tesla_Price        1012 non-null   float64\n",
      " 20  Tesla_Vol.         1012 non-null   float64\n",
      " 21  Microsoft_Price    1012 non-null   float64\n",
      " 22  Microsoft_Vol.     1012 non-null   float64\n",
      " 23  Silver_Price       1012 non-null   float64\n",
      " 24  Silver_Vol.        1012 non-null   float64\n",
      " 25  Google_Price       1012 non-null   float64\n",
      " 26  Google_Vol.        1012 non-null   float64\n",
      " 27  Nvidia_Price       1012 non-null   float64\n",
      " 28  Nvidia_Vol.        1012 non-null   float64\n",
      " 29  Berkshire_Price    1012 non-null   float64\n",
      " 30  Berkshire_Vol.     1012 non-null   float64\n",
      " 31  Netflix_Price      1012 non-null   float64\n",
      " 32  Netflix_Vol.       1012 non-null   float64\n",
      " 33  Amazon_Price       1012 non-null   float64\n",
      " 34  Amazon_Vol.        1012 non-null   float64\n",
      " 35  Meta_Price         1012 non-null   float64\n",
      " 36  Meta_Vol.          1012 non-null   float64\n",
      " 37  Gold_Price         1012 non-null   float64\n",
      " 38  Gold_Vol.          1012 non-null   float64\n",
      "dtypes: float64(37), int64(1), object(1)\n",
      "memory usage: 308.5+ KB\n"
     ]
    }
   ],
   "source": [
    "df.info()"
   ]
  },
  {
   "cell_type": "code",
   "execution_count": 9,
   "metadata": {},
   "outputs": [
    {
     "name": "stdout",
     "output_type": "stream",
     "text": [
      "Variables with Positive Correlation:\n",
      "Copper_Price        0.845766\n",
      "Bitcoin_Price       0.771364\n",
      "Ethereum_Price      0.842325\n",
      "S&P_500_Price       1.000000\n",
      "Nasdaq_100_Price    0.952909\n",
      "Apple_Price         0.901476\n",
      "Tesla_Price         0.830110\n",
      "Microsoft_Price     0.920449\n",
      "Google_Price        0.952920\n",
      "Nvidia_Price        0.752840\n",
      "Berkshire_Price     0.858423\n",
      "Name: S&P_500_Price, dtype: float64\n"
     ]
    }
   ],
   "source": [
    "\n",
    "# Exclude non-numeric columns\n",
    "numeric_df1 = df.select_dtypes(include=['float64'])\n",
    "\n",
    "# Compute the correlation matrix\n",
    "correlation_matrix = numeric_df1.corr()\n",
    " \n",
    "# Extract the correlation values with the target variable (e.g., 'price')\n",
    "correlation_with_price = correlation_matrix['S&P_500_Price']\n",
    " \n",
    "# Identify variables with positive correlation\n",
    "positive_correlation = correlation_with_price[correlation_with_price > 0.7]\n",
    " \n",
    "# Display the variables with positive correlation\n",
    "print(\"Variables with Positive Correlation:\")\n",
    "print(positive_correlation)"
   ]
  },
  {
   "cell_type": "code",
   "execution_count": 10,
   "metadata": {},
   "outputs": [
    {
     "name": "stdout",
     "output_type": "stream",
     "text": [
      "      Apple_Price  Tesla_Price  Microsoft_Price  Google_Price  Nvidia_Price  \\\n",
      "0          186.86       188.86           403.78        141.16        630.27   \n",
      "1          184.40       187.29           397.58        140.10        615.27   \n",
      "2          188.04       191.59           408.59        151.46        627.74   \n",
      "3          191.73       190.93           409.72        153.51        624.65   \n",
      "4          192.42       183.25           403.93        152.18        610.31   \n",
      "...           ...          ...              ...           ...           ...   \n",
      "1007        75.80        32.81           160.09         70.25         60.09   \n",
      "1008        74.60        31.27           157.58         69.76         59.98   \n",
      "1009        74.95        30.10           159.03         69.89         59.27   \n",
      "1010        74.36        29.53           158.62         68.08         59.02   \n",
      "1011        75.09        28.68           160.62         68.43         59.98   \n",
      "\n",
      "      Berkshire_Price  \n",
      "0            581600.0  \n",
      "1            578020.0  \n",
      "2            584680.0  \n",
      "3            578800.0  \n",
      "4            582300.0  \n",
      "...               ...  \n",
      "1007         339188.0  \n",
      "1008         338901.0  \n",
      "1009         340210.0  \n",
      "1010         339155.0  \n",
      "1011         342261.0  \n",
      "\n",
      "[1012 rows x 6 columns] 0       4906.19\n",
      "1       4848.87\n",
      "2       4924.97\n",
      "3       4927.93\n",
      "4       4890.97\n",
      "         ...   \n",
      "1007    3253.05\n",
      "1008    3237.18\n",
      "1009    3246.28\n",
      "1010    3234.85\n",
      "1011    3257.85\n",
      "Name: S&P_500_Price, Length: 1012, dtype: float64\n"
     ]
    }
   ],
   "source": [
    "x= df[['Apple_Price', 'Tesla_Price', 'Microsoft_Price', 'Google_Price', 'Nvidia_Price', 'Berkshire_Price']]\n",
    "y=df[\"S&P_500_Price\"]\n",
    "print(x,y)  "
   ]
  },
  {
   "cell_type": "code",
   "execution_count": 11,
   "metadata": {},
   "outputs": [],
   "source": [
    "x_train, x_test, y_train, y_test = train_test_split(x,y,test_size=0.2, random_state=21)\n",
    "x_train=np.array(x_train)#.reshape(-1, 1)\n",
    "x_test=np.array(x_test)#.reshape(-1, 1)\n",
    "y_train=np.array(x_train)#.reshape(-1, 1)\n",
    "y_test=np.array(x_test)#.reshape(-1, 1)"
   ]
  },
  {
   "cell_type": "code",
   "execution_count": 12,
   "metadata": {},
   "outputs": [
    {
     "data": {
      "text/plain": [
       "Text(0, 0.5, 'S&P_500_Price')"
      ]
     },
     "execution_count": 12,
     "metadata": {},
     "output_type": "execute_result"
    },
    {
     "data": {
      "image/png": "[encoded data removed]",
      "text/plain": [
       "<Figure size 640x480 with 1 Axes>"
      ]
     },
     "metadata": {},
     "output_type": "display_data"
    }
   ],
   "source": [
    "plt.scatter(x_train,y_train)\n",
    "plt.xlabel(\"Stocks with high Co-relation \")\n",
    "plt.ylabel(\"S&P_500_Price\")"
   ]
  },
  {
   "cell_type": "code",
   "execution_count": 13,
   "metadata": {},
   "outputs": [],
   "source": [
    "lr=LinearRegression()  "
   ]
  },
  {
   "cell_type": "code",
   "execution_count": 14,
   "metadata": {},
   "outputs": [
    {
     "data": {
      "text/html": [
       "<style>#sk-container-id-1 {\n",
       "  /* Definition of color scheme common for light and dark mode */\n",
       "  --sklearn-color-text: black;\n",
       "  --sklearn-color-line: gray;\n",
       "  /* Definition of color scheme for unfitted estimators */\n",
       "  --sklearn-color-unfitted-level-0: #fff5e6;\n",
       "  --sklearn-color-unfitted-level-1: #f6e4d2;\n",
       "  --sklearn-color-unfitted-level-2: #ffe0b3;\n",
       "  --sklearn-color-unfitted-level-3: chocolate;\n",
       "  /* Definition of color scheme for fitted estimators */\n",
       "  --sklearn-color-fitted-level-0: #f0f8ff;\n",
       "  --sklearn-color-fitted-level-1: #d4ebff;\n",
       "  --sklearn-color-fitted-level-2: #b3dbfd;\n",
       "  --sklearn-color-fitted-level-3: cornflowerblue;\n",
       "\n",
       "  /* Specific color for light theme */\n",
       "  --sklearn-color-text-on-default-background: var(--sg-text-color, var(--theme-code-foreground, var(--jp-content-font-color1, black)));\n",
       "  --sklearn-color-background: var(--sg-background-color, var(--theme-background, var(--jp-layout-color0, white)));\n",
       "  --sklearn-color-border-box: var(--sg-text-color, var(--theme-code-foreground, var(--jp-content-font-color1, black)));\n",
       "  --sklearn-color-icon: #696969;\n",
       "\n",
       "  @media (prefers-color-scheme: dark) {\n",
       "    /* Redefinition of color scheme for dark theme */\n",
       "    --sklearn-color-text-on-default-background: var(--sg-text-color, var(--theme-code-foreground, var(--jp-content-font-color1, white)));\n",
       "    --sklearn-color-background: var(--sg-background-color, var(--theme-background, var(--jp-layout-color0, #111)));\n",
       "    --sklearn-color-border-box: var(--sg-text-color, var(--theme-code-foreground, var(--jp-content-font-color1, white)));\n",
       "    --sklearn-color-icon: #878787;\n",
       "  }\n",
       "}\n",
       "\n",
       "#sk-container-id-1 {\n",
       "  color: var(--sklearn-color-text);\n",
       "}\n",
       "\n",
       "#sk-container-id-1 pre {\n",
       "  padding: 0;\n",
       "}\n",
       "\n",
       "#sk-container-id-1 input.sk-hidden--visually {\n",
       "  border: 0;\n",
       "  clip: rect(1px 1px 1px 1px);\n",
       "  clip: rect(1px, 1px, 1px, 1px);\n",
       "  height: 1px;\n",
       "  margin: -1px;\n",
       "  overflow: hidden;\n",
       "  padding: 0;\n",
       "  position: absolute;\n",
       "  width: 1px;\n",
       "}\n",
       "\n",
       "#sk-container-id-1 div.sk-dashed-wrapped {\n",
       "  border: 1px dashed var(--sklearn-color-line);\n",
       "  margin: 0 0.4em 0.5em 0.4em;\n",
       "  box-sizing: border-box;\n",
       "  padding-bottom: 0.4em;\n",
       "  background-color: var(--sklearn-color-background);\n",
       "}\n",
       "\n",
       "#sk-container-id-1 div.sk-container {\n",
       "  /* jupyter's `normalize.less` sets `[hidden] { display: none; }`\n",
       "     but bootstrap.min.css set `[hidden] { display: none !important; }`\n",
       "     so we also need the `!important` here to be able to override the\n",
       "     default hidden behavior on the sphinx rendered scikit-learn.org.\n",
       "     See: https://github.com/scikit-learn/scikit-learn/issues/21755 */\n",
       "  display: inline-block !important;\n",
       "  position: relative;\n",
       "}\n",
       "\n",
       "#sk-container-id-1 div.sk-text-repr-fallback {\n",
       "  display: none;\n",
       "}\n",
       "\n",
       "div.sk-parallel-item,\n",
       "div.sk-serial,\n",
       "div.sk-item {\n",
       "  /* draw centered vertical line to link estimators */\n",
       "  background-image: linear-gradient(var(--sklearn-color-text-on-default-background), var(--sklearn-color-text-on-default-background));\n",
       "  background-size: 2px 100%;\n",
       "  background-repeat: no-repeat;\n",
       "  background-position: center center;\n",
       "}\n",
       "\n",
       "/* Parallel-specific style estimator block */\n",
       "\n",
       "#sk-container-id-1 div.sk-parallel-item::after {\n",
       "  content: \"\";\n",
       "  width: 100%;\n",
       "  border-bottom: 2px solid var(--sklearn-color-text-on-default-background);\n",
       "  flex-grow: 1;\n",
       "}\n",
       "\n",
       "#sk-container-id-1 div.sk-parallel {\n",
       "  display: flex;\n",
       "  align-items: stretch;\n",
       "  justify-content: center;\n",
       "  background-color: var(--sklearn-color-background);\n",
       "  position: relative;\n",
       "}\n",
       "\n",
       "#sk-container-id-1 div.sk-parallel-item {\n",
       "  display: flex;\n",
       "  flex-direction: column;\n",
       "}\n",
       "\n",
       "#sk-container-id-1 div.sk-parallel-item:first-child::after {\n",
       "  align-self: flex-end;\n",
       "  width: 50%;\n",
       "}\n",
       "\n",
       "#sk-container-id-1 div.sk-parallel-item:last-child::after {\n",
       "  align-self: flex-start;\n",
       "  width: 50%;\n",
       "}\n",
       "\n",
       "#sk-container-id-1 div.sk-parallel-item:only-child::after {\n",
       "  width: 0;\n",
       "}\n",
       "\n",
       "/* Serial-specific style estimator block */\n",
       "\n",
       "#sk-container-id-1 div.sk-serial {\n",
       "  display: flex;\n",
       "  flex-direction: column;\n",
       "  align-items: center;\n",
       "  background-color: var(--sklearn-color-background);\n",
       "  padding-right: 1em;\n",
       "  padding-left: 1em;\n",
       "}\n",
       "\n",
       "\n",
       "/* Toggleable style: style used for estimator/Pipeline/ColumnTransformer box that is\n",
       "clickable and can be expanded/collapsed.\n",
       "- Pipeline and ColumnTransformer use this feature and define the default style\n",
       "- Estimators will overwrite some part of the style using the `sk-estimator` class\n",
       "*/\n",
       "\n",
       "/* Pipeline and ColumnTransformer style (default) */\n",
       "\n",
       "#sk-container-id-1 div.sk-toggleable {\n",
       "  /* Default theme specific background. It is overwritten whether we have a\n",
       "  specific estimator or a Pipeline/ColumnTransformer */\n",
       "  background-color: var(--sklearn-color-background);\n",
       "}\n",
       "\n",
       "/* Toggleable label */\n",
       "#sk-container-id-1 label.sk-toggleable__label {\n",
       "  cursor: pointer;\n",
       "  display: block;\n",
       "  width: 100%;\n",
       "  margin-bottom: 0;\n",
       "  padding: 0.5em;\n",
       "  box-sizing: border-box;\n",
       "  text-align: center;\n",
       "}\n",
       "\n",
       "#sk-container-id-1 label.sk-toggleable__label-arrow:before {\n",
       "  /* Arrow on the left of the label */\n",
       "  content: \"▸\";\n",
       "  float: left;\n",
       "  margin-right: 0.25em;\n",
       "  color: var(--sklearn-color-icon);\n",
       "}\n",
       "\n",
       "#sk-container-id-1 label.sk-toggleable__label-arrow:hover:before {\n",
       "  color: var(--sklearn-color-text);\n",
       "}\n",
       "\n",
       "/* Toggleable content - dropdown */\n",
       "\n",
       "#sk-container-id-1 div.sk-toggleable__content {\n",
       "  max-height: 0;\n",
       "  max-width: 0;\n",
       "  overflow: hidden;\n",
       "  text-align: left;\n",
       "  /* unfitted */\n",
       "  background-color: var(--sklearn-color-unfitted-level-0);\n",
       "}\n",
       "\n",
       "#sk-container-id-1 div.sk-toggleable__content.fitted {\n",
       "  /* fitted */\n",
       "  background-color: var(--sklearn-color-fitted-level-0);\n",
       "}\n",
       "\n",
       "#sk-container-id-1 div.sk-toggleable__content pre {\n",
       "  margin: 0.2em;\n",
       "  border-radius: 0.25em;\n",
       "  color: var(--sklearn-color-text);\n",
       "  /* unfitted */\n",
       "  background-color: var(--sklearn-color-unfitted-level-0);\n",
       "}\n",
       "\n",
       "#sk-container-id-1 div.sk-toggleable__content.fitted pre {\n",
       "  /* unfitted */\n",
       "  background-color: var(--sklearn-color-fitted-level-0);\n",
       "}\n",
       "\n",
       "#sk-container-id-1 input.sk-toggleable__control:checked~div.sk-toggleable__content {\n",
       "  /* Expand drop-down */\n",
       "  max-height: 200px;\n",
       "  max-width: 100%;\n",
       "  overflow: auto;\n",
       "}\n",
       "\n",
       "#sk-container-id-1 input.sk-toggleable__control:checked~label.sk-toggleable__label-arrow:before {\n",
       "  content: \"▾\";\n",
       "}\n",
       "\n",
       "/* Pipeline/ColumnTransformer-specific style */\n",
       "\n",
       "#sk-container-id-1 div.sk-label input.sk-toggleable__control:checked~label.sk-toggleable__label {\n",
       "  color: var(--sklearn-color-text);\n",
       "  background-color: var(--sklearn-color-unfitted-level-2);\n",
       "}\n",
       "\n",
       "#sk-container-id-1 div.sk-label.fitted input.sk-toggleable__control:checked~label.sk-toggleable__label {\n",
       "  background-color: var(--sklearn-color-fitted-level-2);\n",
       "}\n",
       "\n",
       "/* Estimator-specific style */\n",
       "\n",
       "/* Colorize estimator box */\n",
       "#sk-container-id-1 div.sk-estimator input.sk-toggleable__control:checked~label.sk-toggleable__label {\n",
       "  /* unfitted */\n",
       "  background-color: var(--sklearn-color-unfitted-level-2);\n",
       "}\n",
       "\n",
       "#sk-container-id-1 div.sk-estimator.fitted input.sk-toggleable__control:checked~label.sk-toggleable__label {\n",
       "  /* fitted */\n",
       "  background-color: var(--sklearn-color-fitted-level-2);\n",
       "}\n",
       "\n",
       "#sk-container-id-1 div.sk-label label.sk-toggleable__label,\n",
       "#sk-container-id-1 div.sk-label label {\n",
       "  /* The background is the default theme color */\n",
       "  color: var(--sklearn-color-text-on-default-background);\n",
       "}\n",
       "\n",
       "/* On hover, darken the color of the background */\n",
       "#sk-container-id-1 div.sk-label:hover label.sk-toggleable__label {\n",
       "  color: var(--sklearn-color-text);\n",
       "  background-color: var(--sklearn-color-unfitted-level-2);\n",
       "}\n",
       "\n",
       "/* Label box, darken color on hover, fitted */\n",
       "#sk-container-id-1 div.sk-label.fitted:hover label.sk-toggleable__label.fitted {\n",
       "  color: var(--sklearn-color-text);\n",
       "  background-color: var(--sklearn-color-fitted-level-2);\n",
       "}\n",
       "\n",
       "/* Estimator label */\n",
       "\n",
       "#sk-container-id-1 div.sk-label label {\n",
       "  font-family: monospace;\n",
       "  font-weight: bold;\n",
       "  display: inline-block;\n",
       "  line-height: 1.2em;\n",
       "}\n",
       "\n",
       "#sk-container-id-1 div.sk-label-container {\n",
       "  text-align: center;\n",
       "}\n",
       "\n",
       "/* Estimator-specific */\n",
       "#sk-container-id-1 div.sk-estimator {\n",
       "  font-family: monospace;\n",
       "  border: 1px dotted var(--sklearn-color-border-box);\n",
       "  border-radius: 0.25em;\n",
       "  box-sizing: border-box;\n",
       "  margin-bottom: 0.5em;\n",
       "  /* unfitted */\n",
       "  background-color: var(--sklearn-color-unfitted-level-0);\n",
       "}\n",
       "\n",
       "#sk-container-id-1 div.sk-estimator.fitted {\n",
       "  /* fitted */\n",
       "  background-color: var(--sklearn-color-fitted-level-0);\n",
       "}\n",
       "\n",
       "/* on hover */\n",
       "#sk-container-id-1 div.sk-estimator:hover {\n",
       "  /* unfitted */\n",
       "  background-color: var(--sklearn-color-unfitted-level-2);\n",
       "}\n",
       "\n",
       "#sk-container-id-1 div.sk-estimator.fitted:hover {\n",
       "  /* fitted */\n",
       "  background-color: var(--sklearn-color-fitted-level-2);\n",
       "}\n",
       "\n",
       "/* Specification for estimator info (e.g. \"i\" and \"?\") */\n",
       "\n",
       "/* Common style for \"i\" and \"?\" */\n",
       "\n",
       ".sk-estimator-doc-link,\n",
       "a:link.sk-estimator-doc-link,\n",
       "a:visited.sk-estimator-doc-link {\n",
       "  float: right;\n",
       "  font-size: smaller;\n",
       "  line-height: 1em;\n",
       "  font-family: monospace;\n",
       "  background-color: var(--sklearn-color-background);\n",
       "  border-radius: 1em;\n",
       "  height: 1em;\n",
       "  width: 1em;\n",
       "  text-decoration: none !important;\n",
       "  margin-left: 1ex;\n",
       "  /* unfitted */\n",
       "  border: var(--sklearn-color-unfitted-level-1) 1pt solid;\n",
       "  color: var(--sklearn-color-unfitted-level-1);\n",
       "}\n",
       "\n",
       ".sk-estimator-doc-link.fitted,\n",
       "a:link.sk-estimator-doc-link.fitted,\n",
       "a:visited.sk-estimator-doc-link.fitted {\n",
       "  /* fitted */\n",
       "  border: var(--sklearn-color-fitted-level-1) 1pt solid;\n",
       "  color: var(--sklearn-color-fitted-level-1);\n",
       "}\n",
       "\n",
       "/* On hover */\n",
       "div.sk-estimator:hover .sk-estimator-doc-link:hover,\n",
       ".sk-estimator-doc-link:hover,\n",
       "div.sk-label-container:hover .sk-estimator-doc-link:hover,\n",
       ".sk-estimator-doc-link:hover {\n",
       "  /* unfitted */\n",
       "  background-color: var(--sklearn-color-unfitted-level-3);\n",
       "  color: var(--sklearn-color-background);\n",
       "  text-decoration: none;\n",
       "}\n",
       "\n",
       "div.sk-estimator.fitted:hover .sk-estimator-doc-link.fitted:hover,\n",
       ".sk-estimator-doc-link.fitted:hover,\n",
       "div.sk-label-container:hover .sk-estimator-doc-link.fitted:hover,\n",
       ".sk-estimator-doc-link.fitted:hover {\n",
       "  /* fitted */\n",
       "  background-color: var(--sklearn-color-fitted-level-3);\n",
       "  color: var(--sklearn-color-background);\n",
       "  text-decoration: none;\n",
       "}\n",
       "\n",
       "/* Span, style for the box shown on hovering the info icon */\n",
       ".sk-estimator-doc-link span {\n",
       "  display: none;\n",
       "  z-index: 9999;\n",
       "  position: relative;\n",
       "  font-weight: normal;\n",
       "  right: .2ex;\n",
       "  padding: .5ex;\n",
       "  margin: .5ex;\n",
       "  width: min-content;\n",
       "  min-width: 20ex;\n",
       "  max-width: 50ex;\n",
       "  color: var(--sklearn-color-text);\n",
       "  box-shadow: 2pt 2pt 4pt #999;\n",
       "  /* unfitted */\n",
       "  background: var(--sklearn-color-unfitted-level-0);\n",
       "  border: .5pt solid var(--sklearn-color-unfitted-level-3);\n",
       "}\n",
       "\n",
       ".sk-estimator-doc-link.fitted span {\n",
       "  /* fitted */\n",
       "  background: var(--sklearn-color-fitted-level-0);\n",
       "  border: var(--sklearn-color-fitted-level-3);\n",
       "}\n",
       "\n",
       ".sk-estimator-doc-link:hover span {\n",
       "  display: block;\n",
       "}\n",
       "\n",
       "/* \"?\"-specific style due to the `<a>` HTML tag */\n",
       "\n",
       "#sk-container-id-1 a.estimator_doc_link {\n",
       "  float: right;\n",
       "  font-size: 1rem;\n",
       "  line-height: 1em;\n",
       "  font-family: monospace;\n",
       "  background-color: var(--sklearn-color-background);\n",
       "  border-radius: 1rem;\n",
       "  height: 1rem;\n",
       "  width: 1rem;\n",
       "  text-decoration: none;\n",
       "  /* unfitted */\n",
       "  color: var(--sklearn-color-unfitted-level-1);\n",
       "  border: var(--sklearn-color-unfitted-level-1) 1pt solid;\n",
       "}\n",
       "\n",
       "#sk-container-id-1 a.estimator_doc_link.fitted {\n",
       "  /* fitted */\n",
       "  border: var(--sklearn-color-fitted-level-1) 1pt solid;\n",
       "  color: var(--sklearn-color-fitted-level-1);\n",
       "}\n",
       "\n",
       "/* On hover */\n",
       "#sk-container-id-1 a.estimator_doc_link:hover {\n",
       "  /* unfitted */\n",
       "  background-color: var(--sklearn-color-unfitted-level-3);\n",
       "  color: var(--sklearn-color-background);\n",
       "  text-decoration: none;\n",
       "}\n",
       "\n",
       "#sk-container-id-1 a.estimator_doc_link.fitted:hover {\n",
       "  /* fitted */\n",
       "  background-color: var(--sklearn-color-fitted-level-3);\n",
       "}\n",
       "</style><div id=\"sk-container-id-1\" class=\"sk-top-container\"><div class=\"sk-text-repr-fallback\"><pre>LinearRegression()</pre><b>In a Jupyter environment, please rerun this cell to show the HTML representation or trust the notebook. <br />On GitHub, the HTML representation is unable to render, please try loading this page with nbviewer.org.</b></div><div class=\"sk-container\" hidden><div class=\"sk-item\"><div class=\"sk-estimator fitted sk-toggleable\"><input class=\"sk-toggleable__control sk-hidden--visually\" id=\"sk-estimator-id-1\" type=\"checkbox\" checked><label for=\"sk-estimator-id-1\" class=\"sk-toggleable__label fitted sk-toggleable__label-arrow fitted\">&nbsp;&nbsp;LinearRegression<a class=\"sk-estimator-doc-link fitted\" rel=\"noreferrer\" target=\"_blank\" href=\"https://scikit-learn.org/1.4/modules/generated/sklearn.linear_model.LinearRegression.html\">?<span>Documentation for LinearRegression</span></a><span class=\"sk-estimator-doc-link fitted\">i<span>Fitted</span></span></label><div class=\"sk-toggleable__content fitted\"><pre>LinearRegression()</pre></div> </div></div></div></div>"
      ],
      "text/plain": [
       "LinearRegression()"
      ]
     },
     "execution_count": 14,
     "metadata": {},
     "output_type": "execute_result"
    }
   ],
   "source": [
    "lr.fit(x_train, y_train)"
   ]
  },
  {
   "cell_type": "code",
   "execution_count": 15,
   "metadata": {},
   "outputs": [
    {
     "name": "stdout",
     "output_type": "stream",
     "text": [
      "[ 1.06012976e-11  1.61719527e-11  2.51816346e-11  1.26050281e-11\n",
      "  4.25472990e-11 -2.91038305e-10]\n"
     ]
    }
   ],
   "source": [
    "c=lr.intercept_\n",
    "print (c)\n"
   ]
  },
  {
   "cell_type": "code",
   "execution_count": 16,
   "metadata": {},
   "outputs": [
    {
     "data": {
      "text/plain": [
       "array([[ 1.00000000e+00, -1.41767095e-15,  3.94403513e-15,\n",
       "         2.69500102e-15, -1.35736092e-15, -2.66647381e-17],\n",
       "       [ 2.38771891e-13,  1.00000000e+00, -7.51727239e-14,\n",
       "         1.03780211e-13,  2.59833387e-14, -1.11022302e-16],\n",
       "       [ 7.63929499e-16, -2.59883261e-16,  1.00000000e+00,\n",
       "         7.28654481e-16, -3.26039499e-16, -5.99563801e-17],\n",
       "       [-4.87996339e-16,  1.17082993e-15, -1.46313242e-15,\n",
       "         1.00000000e+00,  6.79495548e-16, -2.85687272e-17],\n",
       "       [-7.09696866e-16,  6.39245601e-16, -1.99053547e-15,\n",
       "         3.10264357e-16,  1.00000000e+00, -9.93129190e-17],\n",
       "       [ 1.44627615e-12,  1.53543844e-13, -1.20666281e-13,\n",
       "        -3.72378072e-13,  2.41228478e-14,  1.00000000e+00]])"
      ]
     },
     "execution_count": 16,
     "metadata": {},
     "output_type": "execute_result"
    }
   ],
   "source": [
    "m=lr.coef_\n",
    "m"
   ]
  },
  {
   "cell_type": "code",
   "execution_count": 17,
   "metadata": {},
   "outputs": [
    {
     "data": {
      "text/plain": [
       "array([1.74070e+02, 3.37970e+02, 3.04100e+02, ..., 6.90800e+01,\n",
       "       7.11300e+01, 3.26125e+05])"
      ]
     },
     "execution_count": 17,
     "metadata": {},
     "output_type": "execute_result"
    }
   ],
   "source": [
    "y_pred=lr.predict(x_train)\n",
    "y_pred.flatten()"
   ]
  },
  {
   "cell_type": "code",
   "execution_count": 18,
   "metadata": {},
   "outputs": [
    {
     "data": {
      "text/plain": [
       "Text(0, 0.5, 'S&P_500_Price')"
      ]
     },
     "execution_count": 18,
     "metadata": {},
     "output_type": "execute_result"
    },
    {
     "data": {
      "image/png": "[encoded data removed]",
      "text/plain": [
       "<Figure size 640x480 with 1 Axes>"
      ]
     },
     "metadata": {},
     "output_type": "display_data"
    }
   ],
   "source": [
    "plt.scatter(x_train,y_train)\n",
    "plt.scatter(x_train,y_pred,color=\"red\")\n",
    "plt.xlabel(\"Stocks with high Co-relation \")\n",
    "plt.ylabel(\"S&P_500_Price\")"
   ]
  },
  {
   "cell_type": "code",
   "execution_count": 19,
   "metadata": {},
   "outputs": [
    {
     "data": {
      "text/plain": [
       "array([1.5765e+02, 1.8919e+02, 2.7523e+02, ..., 1.2181e+02, 1.8427e+02,\n",
       "       4.1778e+05])"
      ]
     },
     "execution_count": 19,
     "metadata": {},
     "output_type": "execute_result"
    }
   ],
   "source": [
    "y_pred1=lr.predict(x_test)\n",
    "y_pred1.flatten()"
   ]
  },
  {
   "cell_type": "code",
   "execution_count": 20,
   "metadata": {},
   "outputs": [
    {
     "data": {
      "text/plain": [
       "Text(0, 0.5, 'S&P_500_Price')"
      ]
     },
     "execution_count": 20,
     "metadata": {},
     "output_type": "execute_result"
    },
    {
     "data": {
      "image/png": "[encoded data removed]",
      "text/plain": [
       "<Figure size 640x480 with 1 Axes>"
      ]
     },
     "metadata": {},
     "output_type": "display_data"
    }
   ],
   "source": [
    "plt.scatter(x_test,y_test)\n",
    "plt.scatter(x_test,y_pred1,color=\"red\")\n",
    "plt.xlabel(\"Stocks with high Co-relation \")\n",
    "plt.ylabel(\"S&P_500_Price\")"
   ]
  },
  {
   "cell_type": "code",
   "execution_count": 21,
   "metadata": {},
   "outputs": [
    {
     "name": "stdout",
     "output_type": "stream",
     "text": [
      "MSE -->  9.863699584155078e-22\n",
      "RMSE -->  3.1406527321808565e-11\n",
      "MAE -->  1.1224346757644556e-11\n",
      "R2 -->  1.0\n"
     ]
    }
   ],
   "source": [
    "# MSE\n",
    "mse = mean_squared_error(y_test, y_pred1)\n",
    "# RMSE\n",
    "rmse = math.sqrt(mse)\n",
    "# MAE\n",
    "mae = mean_absolute_error(y_test, y_pred1)\n",
    "# R2\n",
    "r2 = r2_score(y_test, y_pred1)\n",
    "# print them all\n",
    "print(\"MSE --> \", mse)\n",
    "print(\"RMSE --> \", rmse)\n",
    "print(\"MAE --> \", mae)\n",
    "print(\"R2 --> \", r2)     "
   ]
  },
  {
   "cell_type": "code",
   "execution_count": 22,
   "metadata": {},
   "outputs": [
    {
     "name": "stdout",
     "output_type": "stream",
     "text": [
      "Best Alpha: 0.1\n",
      "Tuned Training Data Score: 0.9999999999998548\n",
      "Tuned Testing Data Score: 0.9999999999998703\n"
     ]
    }
   ],
   "source": [
    "\n",
    "# Define a range of alpha values to search\n",
    "param_grid = {'alpha': [0.1, 1.0, 10.0]}\n",
    "\n",
    "# Perform grid search with cross-validation\n",
    "grid_search = GridSearchCV(Ridge(), param_grid, cv=5)\n",
    "grid_search.fit(x_train, y_train)\n",
    "\n",
    "# Get the best alpha value found by grid search\n",
    "best_alpha = grid_search.best_params_['alpha']\n",
    "print(\"Best Alpha:\", best_alpha)\n",
    "\n",
    "# Initialize Ridge regression with the best alpha value\n",
    "ridge_tuned = Ridge(alpha=best_alpha)\n",
    "ridge_tuned.fit(x_train, y_train)\n",
    "\n",
    "# Evaluate the tuned model\n",
    "training_score_tuned = ridge_tuned.score(x_train, y_train)\n",
    "testing_score_tuned = ridge_tuned.score(x_test, y_test)\n",
    "\n",
    "print(\"Tuned Training Data Score:\", training_score_tuned)\n",
    "print(\"Tuned Testing Data Score:\", testing_score_tuned)"
   ]
  },
  {
   "cell_type": "code",
   "execution_count": 23,
   "metadata": {},
   "outputs": [
    {
     "name": "stdout",
     "output_type": "stream",
     "text": [
      "Coefficients (M): [[ 9.99997589e-01  3.51579986e-07  1.13378003e-06 -1.46731832e-06\n",
      "  -5.82204077e-08  4.15732248e-10]\n",
      " [ 3.51579989e-07  9.99999883e-01 -9.19284840e-08  3.43525447e-07\n",
      "  -2.37272911e-08 -5.26852000e-11]\n",
      " [ 1.13378004e-06 -9.19284811e-08  9.99998362e-01  1.67483998e-06\n",
      "   2.94310497e-07 -1.56396954e-10]\n",
      " [-1.46731833e-06  3.43525442e-07  1.67483997e-06  9.99997090e-01\n",
      "  -2.01439392e-07  2.77221563e-10]\n",
      " [-5.82204305e-08 -2.37272890e-08  2.94310517e-07 -2.01439415e-07\n",
      "   9.99999906e-01  2.88504622e-11]\n",
      " [ 4.08584377e-10 -5.12432469e-11 -1.58725029e-10  2.75872767e-10\n",
      "   3.01373825e-11  1.00000000e+00]]\n",
      "Intercept (c): [-3.77466748e-05 -1.05851485e-05  1.13654708e-04 -6.63305186e-05\n",
      " -3.46849779e-05  2.06637196e-08]\n",
      "Training Data Metrics:\n",
      "Mean Squared Error: 1.4772628903121478e-10\n",
      "Mean Absolute Error: 7.53110723574938e-06\n",
      "R-squared Score: 0.9999999999998548\n",
      "Root Mean Squared Error: 1.2154270403081165e-05\n",
      "\n",
      "Testing Data Metrics:\n",
      "Mean Squared Error: 1.237557018677193e-10\n",
      "Mean Absolute Error: 6.81604089400528e-06\n",
      "R-squared Score: 0.9999999999998703\n",
      "Root Mean Squared Error: 1.112455400758697e-05\n"
     ]
    }
   ],
   "source": [
    "# Coefficients and intercept\n",
    "M = ridge_tuned.coef_\n",
    "c = ridge_tuned.intercept_\n",
    "\n",
    "# Predictions on training and testing data\n",
    "y_train_pred = ridge_tuned.predict(x_train)\n",
    "y_test_pred = ridge_tuned.predict(x_test)\n",
    "\n",
    "# Calculate evaluation metrics\n",
    "mse_train = mean_squared_error(y_train, y_train_pred)\n",
    "mse_test = mean_squared_error(y_test, y_test_pred)\n",
    "\n",
    "mae_train = mean_absolute_error(y_train, y_train_pred)\n",
    "mae_test = mean_absolute_error(y_test, y_test_pred)\n",
    "\n",
    "r2_train = r2_score(y_train, y_train_pred)\n",
    "r2_test = r2_score(y_test, y_test_pred)\n",
    "\n",
    "# Calculate RMSE\n",
    "rmse_train = np.sqrt(mse_train)\n",
    "rmse_test = np.sqrt(mse_test)\n",
    "\n",
    "print(\"Coefficients (M):\", M)\n",
    "print(\"Intercept (c):\", c)\n",
    "print(\"Training Data Metrics:\")\n",
    "print(\"Mean Squared Error:\", mse_train)\n",
    "print(\"Mean Absolute Error:\", mae_train)\n",
    "print(\"R-squared Score:\", r2_train)\n",
    "print(\"Root Mean Squared Error:\", rmse_train)\n",
    "print(\"\\nTesting Data Metrics:\")\n",
    "print(\"Mean Squared Error:\", mse_test)\n",
    "print(\"Mean Absolute Error:\", mae_test)\n",
    "print(\"R-squared Score:\", r2_test)\n",
    "print(\"Root Mean Squared Error:\", rmse_test)  "
   ]
  },
  {
   "cell_type": "code",
   "execution_count": 24,
   "metadata": {},
   "outputs": [
    {
     "name": "stdout",
     "output_type": "stream",
     "text": [
      "Best Alpha: 0.001\n",
      "Tuned Training Data Score: 1.0\n",
      "Tuned Testing Data Score: 1.0\n"
     ]
    }
   ],
   "source": [
    "# Define a wider range of alpha values to search\n",
    "param_grid = {'alpha': [0.001, 0.01, 0.1, 1.0, 10.0, 100.0]}\n",
    "\n",
    "# Perform grid search with cross-validation\n",
    "grid_search = GridSearchCV(Ridge(), param_grid, cv=5)\n",
    "grid_search.fit(x_train, y_train)\n",
    "\n",
    "# Get the best alpha value found by grid search\n",
    "best_alpha = grid_search.best_params_['alpha']\n",
    "print(\"Best Alpha:\", best_alpha)\n",
    "\n",
    "# Initialize Ridge regression with the best alpha value\n",
    "ridge_tuned = Ridge(alpha=best_alpha)\n",
    "ridge_tuned.fit(x_train, y_train)\n",
    "\n",
    "# Evaluate the tuned model\n",
    "training_score_tuned = ridge_tuned.score(x_train, y_train)\n",
    "testing_score_tuned = ridge_tuned.score(x_test, y_test)\n",
    "\n",
    "print(\"Tuned Training Data Score:\", training_score_tuned)\n",
    "print(\"Tuned Testing Data Score:\", testing_score_tuned)   \n"
   ]
  },
  {
   "cell_type": "code",
   "execution_count": 25,
   "metadata": {},
   "outputs": [
    {
     "name": "stdout",
     "output_type": "stream",
     "text": [
      "Best Alpha: 0.001\n",
      "Tuned Training Data Score: 1.0\n",
      "Tuned Testing Data Score: 1.0\n"
     ]
    }
   ],
   "source": [
    "# Define a range of alpha values to search\n",
    "param_grid = {'alpha': [0.001, 0.1, 1.0, 10.0]}\n",
    "\n",
    "# Perform grid search with cross-validation\n",
    "grid_search = GridSearchCV(Ridge(), param_grid, cv=5)\n",
    "grid_search.fit(x_train, y_train)\n",
    "\n",
    "# Get the best alpha value found by grid search\n",
    "best_alpha = grid_search.best_params_['alpha']\n",
    "print(\"Best Alpha:\", best_alpha)\n",
    "\n",
    "# Initialize Ridge regression with the best alpha value\n",
    "ridge_tuned = Ridge(alpha=best_alpha)\n",
    "ridge_tuned.fit(x_train, y_train)\n",
    "\n",
    "# Evaluate the tuned model\n",
    "training_score_tuned = ridge_tuned.score(x_train, y_train)\n",
    "testing_score_tuned = ridge_tuned.score(x_test, y_test)\n",
    "\n",
    "print(\"Tuned Training Data Score:\", training_score_tuned)\n",
    "print(\"Tuned Testing Data Score:\", testing_score_tuned)"
   ]
  },
  {
   "cell_type": "code",
   "execution_count": 26,
   "metadata": {},
   "outputs": [
    {
     "name": "stdout",
     "output_type": "stream",
     "text": [
      "Coefficients (M): [[ 9.99999976e-01  3.51581581e-09  1.13378751e-08 -1.46732878e-08\n",
      "  -5.82212145e-10  4.15733953e-12]\n",
      " [ 3.51581789e-09  9.99999999e-01 -9.19302916e-10  3.43527990e-09\n",
      "  -2.37270360e-10 -5.26855113e-13]\n",
      " [ 1.13378746e-08 -9.19296460e-10  9.99999984e-01  1.67484985e-08\n",
      "   2.94311467e-09 -1.56398163e-12]\n",
      " [-1.46732835e-08  3.43527180e-09  1.67484940e-08  9.99999971e-01\n",
      "  -2.01440573e-09  2.77223296e-12]\n",
      " [-5.82231941e-10 -2.37267713e-10  2.94312107e-09 -2.01442060e-09\n",
      "   9.99999999e-01  2.88509686e-13]\n",
      " [ 2.88896207e-12 -8.10824453e-14  2.08305703e-14 -5.39341460e-13\n",
      "   3.01373994e-13  1.00000000e+00]]\n",
      "Intercept (c): [-3.77470059e-07 -1.05850575e-07  1.13655079e-06 -6.63309606e-07\n",
      " -3.46850243e-07  2.32830644e-10]\n",
      "\n",
      "Training Data Metrics:\n",
      "Mean Squared Error: 1.477275793769356e-14\n",
      "Mean Absolute Error: 7.531289120412276e-08\n",
      "R-squared Score: 1.0\n",
      "Root Mean Squared Error: 1.2154323484955286e-07\n",
      "\n",
      "Testing Data Metrics:\n",
      "Mean Squared Error: 1.2375674957749142e-14\n",
      "Mean Absolute Error: 6.816170624020005e-08\n",
      "R-squared Score: 1.0\n",
      "Root Mean Squared Error: 1.112460109745475e-07\n"
     ]
    }
   ],
   "source": [
    "# Coefficients and intercept\n",
    "M = ridge_tuned.coef_\n",
    "c = ridge_tuned.intercept_\n",
    "\n",
    "# Predictions on training and testing data\n",
    "y_train_pred = ridge_tuned.predict(x_train)\n",
    "y_test_pred = ridge_tuned.predict(x_test)\n",
    "\n",
    "# Calculate evaluation metrics\n",
    "mse_train = mean_squared_error(y_train, y_train_pred)\n",
    "mse_test = mean_squared_error(y_test, y_test_pred)\n",
    "\n",
    "mae_train = mean_absolute_error(y_train, y_train_pred)\n",
    "mae_test = mean_absolute_error(y_test, y_test_pred)\n",
    "\n",
    "r2_train = r2_score(y_train, y_train_pred)\n",
    "r2_test = r2_score(y_test, y_test_pred)\n",
    "\n",
    "# Calculate RMSE\n",
    "rmse_train = np.sqrt(mse_train)\n",
    "rmse_test = np.sqrt(mse_test)\n",
    "\n",
    "print(\"Coefficients (M):\", M)\n",
    "print(\"Intercept (c):\", c)\n",
    "print(\"\\nTraining Data Metrics:\")\n",
    "print(\"Mean Squared Error:\", mse_train)\n",
    "print(\"Mean Absolute Error:\", mae_train)\n",
    "print(\"R-squared Score:\", r2_train)\n",
    "print(\"Root Mean Squared Error:\", rmse_train)\n",
    "print(\"\\nTesting Data Metrics:\")\n",
    "print(\"Mean Squared Error:\", mse_test)\n",
    "print(\"Mean Absolute Error:\", mae_test)\n",
    "print(\"R-squared Score:\", r2_test)\n",
    "print(\"Root Mean Squared Error:\", rmse_test)\n"
   ]
  }
 ],
 "metadata": {
  "kernelspec": {
   "display_name": "Python 3",
   "language": "python",
   "name": "python3"
  },
  "language_info": {
   "codemirror_mode": {
    "name": "ipython",
    "version": 3
   },
   "file_extension": ".py",
   "mimetype": "text/x-python",
   "name": "python",
   "nbconvert_exporter": "python",
   "pygments_lexer": "ipython3",
   "version": "3.11.8"
  }
 },
 "nbformat": 4,
 "nbformat_minor": 2
}
